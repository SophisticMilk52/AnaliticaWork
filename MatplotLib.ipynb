{
 "cells": [
  {
   "cell_type": "markdown",
   "metadata": {},
   "source": [
    "# MatPlotLib"
   ]
  },
  {
   "cell_type": "code",
   "execution_count": 2,
   "metadata": {},
   "outputs": [
    {
     "data": {
      "text/plain": [
       "<Figure size 640x480 with 1 Axes>"
      ]
     },
     "metadata": {},
     "output_type": "display_data"
    }
   ],
   "source": [
    "import matplotlib.pyplot as plt\n",
    "plt.plot([1,2,3,4])\n",
    "plt.show()"
   ]
  },
  {
   "cell_type": "code",
   "execution_count": 2,
   "metadata": {},
   "outputs": [
    {
     "name": "stdout",
     "output_type": "stream",
     "text": [
      "3.0.3\n",
      "module://ipykernel.pylab.backend_inline\n"
     ]
    }
   ],
   "source": [
    "import matplotlib\n",
    "print(matplotlib.__version__)\n",
    "print(matplotlib.get_backend())"
   ]
  },
  {
   "cell_type": "code",
   "execution_count": 3,
   "metadata": {},
   "outputs": [
    {
     "name": "stdout",
     "output_type": "stream",
     "text": [
      "nbAgg\n"
     ]
    }
   ],
   "source": [
    "matplotlib.use('nbagg')\n",
    "print(matplotlib.get_backend())"
   ]
  },
  {
   "cell_type": "code",
   "execution_count": 4,
   "metadata": {},
   "outputs": [
    {
     "data": {
      "application/javascript": [
       "/* Put everything inside the global mpl namespace */\n",
       "window.mpl = {};\n",
       "\n",
       "\n",
       "mpl.get_websocket_type = function() {\n",
       "    if (typeof(WebSocket) !== 'undefined') {\n",
       "        return WebSocket;\n",
       "    } else if (typeof(MozWebSocket) !== 'undefined') {\n",
       "        return MozWebSocket;\n",
       "    } else {\n",
       "        alert('Your browser does not have WebSocket support.' +\n",
       "              'Please try Chrome, Safari or Firefox ≥ 6. ' +\n",
       "              'Firefox 4 and 5 are also supported but you ' +\n",
       "              'have to enable WebSockets in about:config.');\n",
       "    };\n",
       "}\n",
       "\n",
       "mpl.figure = function(figure_id, websocket, ondownload, parent_element) {\n",
       "    this.id = figure_id;\n",
       "\n",
       "    this.ws = websocket;\n",
       "\n",
       "    this.supports_binary = (this.ws.binaryType != undefined);\n",
       "\n",
       "    if (!this.supports_binary) {\n",
       "        var warnings = document.getElementById(\"mpl-warnings\");\n",
       "        if (warnings) {\n",
       "            warnings.style.display = 'block';\n",
       "            warnings.textContent = (\n",
       "                \"This browser does not support binary websocket messages. \" +\n",
       "                    \"Performance may be slow.\");\n",
       "        }\n",
       "    }\n",
       "\n",
       "    this.imageObj = new Image();\n",
       "\n",
       "    this.context = undefined;\n",
       "    this.message = undefined;\n",
       "    this.canvas = undefined;\n",
       "    this.rubberband_canvas = undefined;\n",
       "    this.rubberband_context = undefined;\n",
       "    this.format_dropdown = undefined;\n",
       "\n",
       "    this.image_mode = 'full';\n",
       "\n",
       "    this.root = $('<div/>');\n",
       "    this._root_extra_style(this.root)\n",
       "    this.root.attr('style', 'display: inline-block');\n",
       "\n",
       "    $(parent_element).append(this.root);\n",
       "\n",
       "    this._init_header(this);\n",
       "    this._init_canvas(this);\n",
       "    this._init_toolbar(this);\n",
       "\n",
       "    var fig = this;\n",
       "\n",
       "    this.waiting = false;\n",
       "\n",
       "    this.ws.onopen =  function () {\n",
       "            fig.send_message(\"supports_binary\", {value: fig.supports_binary});\n",
       "            fig.send_message(\"send_image_mode\", {});\n",
       "            if (mpl.ratio != 1) {\n",
       "                fig.send_message(\"set_dpi_ratio\", {'dpi_ratio': mpl.ratio});\n",
       "            }\n",
       "            fig.send_message(\"refresh\", {});\n",
       "        }\n",
       "\n",
       "    this.imageObj.onload = function() {\n",
       "            if (fig.image_mode == 'full') {\n",
       "                // Full images could contain transparency (where diff images\n",
       "                // almost always do), so we need to clear the canvas so that\n",
       "                // there is no ghosting.\n",
       "                fig.context.clearRect(0, 0, fig.canvas.width, fig.canvas.height);\n",
       "            }\n",
       "            fig.context.drawImage(fig.imageObj, 0, 0);\n",
       "        };\n",
       "\n",
       "    this.imageObj.onunload = function() {\n",
       "        fig.ws.close();\n",
       "    }\n",
       "\n",
       "    this.ws.onmessage = this._make_on_message_function(this);\n",
       "\n",
       "    this.ondownload = ondownload;\n",
       "}\n",
       "\n",
       "mpl.figure.prototype._init_header = function() {\n",
       "    var titlebar = $(\n",
       "        '<div class=\"ui-dialog-titlebar ui-widget-header ui-corner-all ' +\n",
       "        'ui-helper-clearfix\"/>');\n",
       "    var titletext = $(\n",
       "        '<div class=\"ui-dialog-title\" style=\"width: 100%; ' +\n",
       "        'text-align: center; padding: 3px;\"/>');\n",
       "    titlebar.append(titletext)\n",
       "    this.root.append(titlebar);\n",
       "    this.header = titletext[0];\n",
       "}\n",
       "\n",
       "\n",
       "\n",
       "mpl.figure.prototype._canvas_extra_style = function(canvas_div) {\n",
       "\n",
       "}\n",
       "\n",
       "\n",
       "mpl.figure.prototype._root_extra_style = function(canvas_div) {\n",
       "\n",
       "}\n",
       "\n",
       "mpl.figure.prototype._init_canvas = function() {\n",
       "    var fig = this;\n",
       "\n",
       "    var canvas_div = $('<div/>');\n",
       "\n",
       "    canvas_div.attr('style', 'position: relative; clear: both; outline: 0');\n",
       "\n",
       "    function canvas_keyboard_event(event) {\n",
       "        return fig.key_event(event, event['data']);\n",
       "    }\n",
       "\n",
       "    canvas_div.keydown('key_press', canvas_keyboard_event);\n",
       "    canvas_div.keyup('key_release', canvas_keyboard_event);\n",
       "    this.canvas_div = canvas_div\n",
       "    this._canvas_extra_style(canvas_div)\n",
       "    this.root.append(canvas_div);\n",
       "\n",
       "    var canvas = $('<canvas/>');\n",
       "    canvas.addClass('mpl-canvas');\n",
       "    canvas.attr('style', \"left: 0; top: 0; z-index: 0; outline: 0\")\n",
       "\n",
       "    this.canvas = canvas[0];\n",
       "    this.context = canvas[0].getContext(\"2d\");\n",
       "\n",
       "    var backingStore = this.context.backingStorePixelRatio ||\n",
       "\tthis.context.webkitBackingStorePixelRatio ||\n",
       "\tthis.context.mozBackingStorePixelRatio ||\n",
       "\tthis.context.msBackingStorePixelRatio ||\n",
       "\tthis.context.oBackingStorePixelRatio ||\n",
       "\tthis.context.backingStorePixelRatio || 1;\n",
       "\n",
       "    mpl.ratio = (window.devicePixelRatio || 1) / backingStore;\n",
       "\n",
       "    var rubberband = $('<canvas/>');\n",
       "    rubberband.attr('style', \"position: absolute; left: 0; top: 0; z-index: 1;\")\n",
       "\n",
       "    var pass_mouse_events = true;\n",
       "\n",
       "    canvas_div.resizable({\n",
       "        start: function(event, ui) {\n",
       "            pass_mouse_events = false;\n",
       "        },\n",
       "        resize: function(event, ui) {\n",
       "            fig.request_resize(ui.size.width, ui.size.height);\n",
       "        },\n",
       "        stop: function(event, ui) {\n",
       "            pass_mouse_events = true;\n",
       "            fig.request_resize(ui.size.width, ui.size.height);\n",
       "        },\n",
       "    });\n",
       "\n",
       "    function mouse_event_fn(event) {\n",
       "        if (pass_mouse_events)\n",
       "            return fig.mouse_event(event, event['data']);\n",
       "    }\n",
       "\n",
       "    rubberband.mousedown('button_press', mouse_event_fn);\n",
       "    rubberband.mouseup('button_release', mouse_event_fn);\n",
       "    // Throttle sequential mouse events to 1 every 20ms.\n",
       "    rubberband.mousemove('motion_notify', mouse_event_fn);\n",
       "\n",
       "    rubberband.mouseenter('figure_enter', mouse_event_fn);\n",
       "    rubberband.mouseleave('figure_leave', mouse_event_fn);\n",
       "\n",
       "    canvas_div.on(\"wheel\", function (event) {\n",
       "        event = event.originalEvent;\n",
       "        event['data'] = 'scroll'\n",
       "        if (event.deltaY < 0) {\n",
       "            event.step = 1;\n",
       "        } else {\n",
       "            event.step = -1;\n",
       "        }\n",
       "        mouse_event_fn(event);\n",
       "    });\n",
       "\n",
       "    canvas_div.append(canvas);\n",
       "    canvas_div.append(rubberband);\n",
       "\n",
       "    this.rubberband = rubberband;\n",
       "    this.rubberband_canvas = rubberband[0];\n",
       "    this.rubberband_context = rubberband[0].getContext(\"2d\");\n",
       "    this.rubberband_context.strokeStyle = \"#000000\";\n",
       "\n",
       "    this._resize_canvas = function(width, height) {\n",
       "        // Keep the size of the canvas, canvas container, and rubber band\n",
       "        // canvas in synch.\n",
       "        canvas_div.css('width', width)\n",
       "        canvas_div.css('height', height)\n",
       "\n",
       "        canvas.attr('width', width * mpl.ratio);\n",
       "        canvas.attr('height', height * mpl.ratio);\n",
       "        canvas.attr('style', 'width: ' + width + 'px; height: ' + height + 'px;');\n",
       "\n",
       "        rubberband.attr('width', width);\n",
       "        rubberband.attr('height', height);\n",
       "    }\n",
       "\n",
       "    // Set the figure to an initial 600x600px, this will subsequently be updated\n",
       "    // upon first draw.\n",
       "    this._resize_canvas(600, 600);\n",
       "\n",
       "    // Disable right mouse context menu.\n",
       "    $(this.rubberband_canvas).bind(\"contextmenu\",function(e){\n",
       "        return false;\n",
       "    });\n",
       "\n",
       "    function set_focus () {\n",
       "        canvas.focus();\n",
       "        canvas_div.focus();\n",
       "    }\n",
       "\n",
       "    window.setTimeout(set_focus, 100);\n",
       "}\n",
       "\n",
       "mpl.figure.prototype._init_toolbar = function() {\n",
       "    var fig = this;\n",
       "\n",
       "    var nav_element = $('<div/>')\n",
       "    nav_element.attr('style', 'width: 100%');\n",
       "    this.root.append(nav_element);\n",
       "\n",
       "    // Define a callback function for later on.\n",
       "    function toolbar_event(event) {\n",
       "        return fig.toolbar_button_onclick(event['data']);\n",
       "    }\n",
       "    function toolbar_mouse_event(event) {\n",
       "        return fig.toolbar_button_onmouseover(event['data']);\n",
       "    }\n",
       "\n",
       "    for(var toolbar_ind in mpl.toolbar_items) {\n",
       "        var name = mpl.toolbar_items[toolbar_ind][0];\n",
       "        var tooltip = mpl.toolbar_items[toolbar_ind][1];\n",
       "        var image = mpl.toolbar_items[toolbar_ind][2];\n",
       "        var method_name = mpl.toolbar_items[toolbar_ind][3];\n",
       "\n",
       "        if (!name) {\n",
       "            // put a spacer in here.\n",
       "            continue;\n",
       "        }\n",
       "        var button = $('<button/>');\n",
       "        button.addClass('ui-button ui-widget ui-state-default ui-corner-all ' +\n",
       "                        'ui-button-icon-only');\n",
       "        button.attr('role', 'button');\n",
       "        button.attr('aria-disabled', 'false');\n",
       "        button.click(method_name, toolbar_event);\n",
       "        button.mouseover(tooltip, toolbar_mouse_event);\n",
       "\n",
       "        var icon_img = $('<span/>');\n",
       "        icon_img.addClass('ui-button-icon-primary ui-icon');\n",
       "        icon_img.addClass(image);\n",
       "        icon_img.addClass('ui-corner-all');\n",
       "\n",
       "        var tooltip_span = $('<span/>');\n",
       "        tooltip_span.addClass('ui-button-text');\n",
       "        tooltip_span.html(tooltip);\n",
       "\n",
       "        button.append(icon_img);\n",
       "        button.append(tooltip_span);\n",
       "\n",
       "        nav_element.append(button);\n",
       "    }\n",
       "\n",
       "    var fmt_picker_span = $('<span/>');\n",
       "\n",
       "    var fmt_picker = $('<select/>');\n",
       "    fmt_picker.addClass('mpl-toolbar-option ui-widget ui-widget-content');\n",
       "    fmt_picker_span.append(fmt_picker);\n",
       "    nav_element.append(fmt_picker_span);\n",
       "    this.format_dropdown = fmt_picker[0];\n",
       "\n",
       "    for (var ind in mpl.extensions) {\n",
       "        var fmt = mpl.extensions[ind];\n",
       "        var option = $(\n",
       "            '<option/>', {selected: fmt === mpl.default_extension}).html(fmt);\n",
       "        fmt_picker.append(option)\n",
       "    }\n",
       "\n",
       "    // Add hover states to the ui-buttons\n",
       "    $( \".ui-button\" ).hover(\n",
       "        function() { $(this).addClass(\"ui-state-hover\");},\n",
       "        function() { $(this).removeClass(\"ui-state-hover\");}\n",
       "    );\n",
       "\n",
       "    var status_bar = $('<span class=\"mpl-message\"/>');\n",
       "    nav_element.append(status_bar);\n",
       "    this.message = status_bar[0];\n",
       "}\n",
       "\n",
       "mpl.figure.prototype.request_resize = function(x_pixels, y_pixels) {\n",
       "    // Request matplotlib to resize the figure. Matplotlib will then trigger a resize in the client,\n",
       "    // which will in turn request a refresh of the image.\n",
       "    this.send_message('resize', {'width': x_pixels, 'height': y_pixels});\n",
       "}\n",
       "\n",
       "mpl.figure.prototype.send_message = function(type, properties) {\n",
       "    properties['type'] = type;\n",
       "    properties['figure_id'] = this.id;\n",
       "    this.ws.send(JSON.stringify(properties));\n",
       "}\n",
       "\n",
       "mpl.figure.prototype.send_draw_message = function() {\n",
       "    if (!this.waiting) {\n",
       "        this.waiting = true;\n",
       "        this.ws.send(JSON.stringify({type: \"draw\", figure_id: this.id}));\n",
       "    }\n",
       "}\n",
       "\n",
       "\n",
       "mpl.figure.prototype.handle_save = function(fig, msg) {\n",
       "    var format_dropdown = fig.format_dropdown;\n",
       "    var format = format_dropdown.options[format_dropdown.selectedIndex].value;\n",
       "    fig.ondownload(fig, format);\n",
       "}\n",
       "\n",
       "\n",
       "mpl.figure.prototype.handle_resize = function(fig, msg) {\n",
       "    var size = msg['size'];\n",
       "    if (size[0] != fig.canvas.width || size[1] != fig.canvas.height) {\n",
       "        fig._resize_canvas(size[0], size[1]);\n",
       "        fig.send_message(\"refresh\", {});\n",
       "    };\n",
       "}\n",
       "\n",
       "mpl.figure.prototype.handle_rubberband = function(fig, msg) {\n",
       "    var x0 = msg['x0'] / mpl.ratio;\n",
       "    var y0 = (fig.canvas.height - msg['y0']) / mpl.ratio;\n",
       "    var x1 = msg['x1'] / mpl.ratio;\n",
       "    var y1 = (fig.canvas.height - msg['y1']) / mpl.ratio;\n",
       "    x0 = Math.floor(x0) + 0.5;\n",
       "    y0 = Math.floor(y0) + 0.5;\n",
       "    x1 = Math.floor(x1) + 0.5;\n",
       "    y1 = Math.floor(y1) + 0.5;\n",
       "    var min_x = Math.min(x0, x1);\n",
       "    var min_y = Math.min(y0, y1);\n",
       "    var width = Math.abs(x1 - x0);\n",
       "    var height = Math.abs(y1 - y0);\n",
       "\n",
       "    fig.rubberband_context.clearRect(\n",
       "        0, 0, fig.canvas.width, fig.canvas.height);\n",
       "\n",
       "    fig.rubberband_context.strokeRect(min_x, min_y, width, height);\n",
       "}\n",
       "\n",
       "mpl.figure.prototype.handle_figure_label = function(fig, msg) {\n",
       "    // Updates the figure title.\n",
       "    fig.header.textContent = msg['label'];\n",
       "}\n",
       "\n",
       "mpl.figure.prototype.handle_cursor = function(fig, msg) {\n",
       "    var cursor = msg['cursor'];\n",
       "    switch(cursor)\n",
       "    {\n",
       "    case 0:\n",
       "        cursor = 'pointer';\n",
       "        break;\n",
       "    case 1:\n",
       "        cursor = 'default';\n",
       "        break;\n",
       "    case 2:\n",
       "        cursor = 'crosshair';\n",
       "        break;\n",
       "    case 3:\n",
       "        cursor = 'move';\n",
       "        break;\n",
       "    }\n",
       "    fig.rubberband_canvas.style.cursor = cursor;\n",
       "}\n",
       "\n",
       "mpl.figure.prototype.handle_message = function(fig, msg) {\n",
       "    fig.message.textContent = msg['message'];\n",
       "}\n",
       "\n",
       "mpl.figure.prototype.handle_draw = function(fig, msg) {\n",
       "    // Request the server to send over a new figure.\n",
       "    fig.send_draw_message();\n",
       "}\n",
       "\n",
       "mpl.figure.prototype.handle_image_mode = function(fig, msg) {\n",
       "    fig.image_mode = msg['mode'];\n",
       "}\n",
       "\n",
       "mpl.figure.prototype.updated_canvas_event = function() {\n",
       "    // Called whenever the canvas gets updated.\n",
       "    this.send_message(\"ack\", {});\n",
       "}\n",
       "\n",
       "// A function to construct a web socket function for onmessage handling.\n",
       "// Called in the figure constructor.\n",
       "mpl.figure.prototype._make_on_message_function = function(fig) {\n",
       "    return function socket_on_message(evt) {\n",
       "        if (evt.data instanceof Blob) {\n",
       "            /* FIXME: We get \"Resource interpreted as Image but\n",
       "             * transferred with MIME type text/plain:\" errors on\n",
       "             * Chrome.  But how to set the MIME type?  It doesn't seem\n",
       "             * to be part of the websocket stream */\n",
       "            evt.data.type = \"image/png\";\n",
       "\n",
       "            /* Free the memory for the previous frames */\n",
       "            if (fig.imageObj.src) {\n",
       "                (window.URL || window.webkitURL).revokeObjectURL(\n",
       "                    fig.imageObj.src);\n",
       "            }\n",
       "\n",
       "            fig.imageObj.src = (window.URL || window.webkitURL).createObjectURL(\n",
       "                evt.data);\n",
       "            fig.updated_canvas_event();\n",
       "            fig.waiting = false;\n",
       "            return;\n",
       "        }\n",
       "        else if (typeof evt.data === 'string' && evt.data.slice(0, 21) == \"data:image/png;base64\") {\n",
       "            fig.imageObj.src = evt.data;\n",
       "            fig.updated_canvas_event();\n",
       "            fig.waiting = false;\n",
       "            return;\n",
       "        }\n",
       "\n",
       "        var msg = JSON.parse(evt.data);\n",
       "        var msg_type = msg['type'];\n",
       "\n",
       "        // Call the  \"handle_{type}\" callback, which takes\n",
       "        // the figure and JSON message as its only arguments.\n",
       "        try {\n",
       "            var callback = fig[\"handle_\" + msg_type];\n",
       "        } catch (e) {\n",
       "            console.log(\"No handler for the '\" + msg_type + \"' message type: \", msg);\n",
       "            return;\n",
       "        }\n",
       "\n",
       "        if (callback) {\n",
       "            try {\n",
       "                // console.log(\"Handling '\" + msg_type + \"' message: \", msg);\n",
       "                callback(fig, msg);\n",
       "            } catch (e) {\n",
       "                console.log(\"Exception inside the 'handler_\" + msg_type + \"' callback:\", e, e.stack, msg);\n",
       "            }\n",
       "        }\n",
       "    };\n",
       "}\n",
       "\n",
       "// from http://stackoverflow.com/questions/1114465/getting-mouse-location-in-canvas\n",
       "mpl.findpos = function(e) {\n",
       "    //this section is from http://www.quirksmode.org/js/events_properties.html\n",
       "    var targ;\n",
       "    if (!e)\n",
       "        e = window.event;\n",
       "    if (e.target)\n",
       "        targ = e.target;\n",
       "    else if (e.srcElement)\n",
       "        targ = e.srcElement;\n",
       "    if (targ.nodeType == 3) // defeat Safari bug\n",
       "        targ = targ.parentNode;\n",
       "\n",
       "    // jQuery normalizes the pageX and pageY\n",
       "    // pageX,Y are the mouse positions relative to the document\n",
       "    // offset() returns the position of the element relative to the document\n",
       "    var x = e.pageX - $(targ).offset().left;\n",
       "    var y = e.pageY - $(targ).offset().top;\n",
       "\n",
       "    return {\"x\": x, \"y\": y};\n",
       "};\n",
       "\n",
       "/*\n",
       " * return a copy of an object with only non-object keys\n",
       " * we need this to avoid circular references\n",
       " * http://stackoverflow.com/a/24161582/3208463\n",
       " */\n",
       "function simpleKeys (original) {\n",
       "  return Object.keys(original).reduce(function (obj, key) {\n",
       "    if (typeof original[key] !== 'object')\n",
       "        obj[key] = original[key]\n",
       "    return obj;\n",
       "  }, {});\n",
       "}\n",
       "\n",
       "mpl.figure.prototype.mouse_event = function(event, name) {\n",
       "    var canvas_pos = mpl.findpos(event)\n",
       "\n",
       "    if (name === 'button_press')\n",
       "    {\n",
       "        this.canvas.focus();\n",
       "        this.canvas_div.focus();\n",
       "    }\n",
       "\n",
       "    var x = canvas_pos.x * mpl.ratio;\n",
       "    var y = canvas_pos.y * mpl.ratio;\n",
       "\n",
       "    this.send_message(name, {x: x, y: y, button: event.button,\n",
       "                             step: event.step,\n",
       "                             guiEvent: simpleKeys(event)});\n",
       "\n",
       "    /* This prevents the web browser from automatically changing to\n",
       "     * the text insertion cursor when the button is pressed.  We want\n",
       "     * to control all of the cursor setting manually through the\n",
       "     * 'cursor' event from matplotlib */\n",
       "    event.preventDefault();\n",
       "    return false;\n",
       "}\n",
       "\n",
       "mpl.figure.prototype._key_event_extra = function(event, name) {\n",
       "    // Handle any extra behaviour associated with a key event\n",
       "}\n",
       "\n",
       "mpl.figure.prototype.key_event = function(event, name) {\n",
       "\n",
       "    // Prevent repeat events\n",
       "    if (name == 'key_press')\n",
       "    {\n",
       "        if (event.which === this._key)\n",
       "            return;\n",
       "        else\n",
       "            this._key = event.which;\n",
       "    }\n",
       "    if (name == 'key_release')\n",
       "        this._key = null;\n",
       "\n",
       "    var value = '';\n",
       "    if (event.ctrlKey && event.which != 17)\n",
       "        value += \"ctrl+\";\n",
       "    if (event.altKey && event.which != 18)\n",
       "        value += \"alt+\";\n",
       "    if (event.shiftKey && event.which != 16)\n",
       "        value += \"shift+\";\n",
       "\n",
       "    value += 'k';\n",
       "    value += event.which.toString();\n",
       "\n",
       "    this._key_event_extra(event, name);\n",
       "\n",
       "    this.send_message(name, {key: value,\n",
       "                             guiEvent: simpleKeys(event)});\n",
       "    return false;\n",
       "}\n",
       "\n",
       "mpl.figure.prototype.toolbar_button_onclick = function(name) {\n",
       "    if (name == 'download') {\n",
       "        this.handle_save(this, null);\n",
       "    } else {\n",
       "        this.send_message(\"toolbar_button\", {name: name});\n",
       "    }\n",
       "};\n",
       "\n",
       "mpl.figure.prototype.toolbar_button_onmouseover = function(tooltip) {\n",
       "    this.message.textContent = tooltip;\n",
       "};\n",
       "mpl.toolbar_items = [[\"Home\", \"Reset original view\", \"fa fa-home icon-home\", \"home\"], [\"Back\", \"Back to previous view\", \"fa fa-arrow-left icon-arrow-left\", \"back\"], [\"Forward\", \"Forward to next view\", \"fa fa-arrow-right icon-arrow-right\", \"forward\"], [\"\", \"\", \"\", \"\"], [\"Pan\", \"Pan axes with left mouse, zoom with right\", \"fa fa-arrows icon-move\", \"pan\"], [\"Zoom\", \"Zoom to rectangle\", \"fa fa-square-o icon-check-empty\", \"zoom\"], [\"\", \"\", \"\", \"\"], [\"Download\", \"Download plot\", \"fa fa-floppy-o icon-save\", \"download\"]];\n",
       "\n",
       "mpl.extensions = [\"eps\", \"jpeg\", \"pdf\", \"png\", \"ps\", \"raw\", \"svg\", \"tif\"];\n",
       "\n",
       "mpl.default_extension = \"png\";var comm_websocket_adapter = function(comm) {\n",
       "    // Create a \"websocket\"-like object which calls the given IPython comm\n",
       "    // object with the appropriate methods. Currently this is a non binary\n",
       "    // socket, so there is still some room for performance tuning.\n",
       "    var ws = {};\n",
       "\n",
       "    ws.close = function() {\n",
       "        comm.close()\n",
       "    };\n",
       "    ws.send = function(m) {\n",
       "        //console.log('sending', m);\n",
       "        comm.send(m);\n",
       "    };\n",
       "    // Register the callback with on_msg.\n",
       "    comm.on_msg(function(msg) {\n",
       "        //console.log('receiving', msg['content']['data'], msg);\n",
       "        // Pass the mpl event to the overridden (by mpl) onmessage function.\n",
       "        ws.onmessage(msg['content']['data'])\n",
       "    });\n",
       "    return ws;\n",
       "}\n",
       "\n",
       "mpl.mpl_figure_comm = function(comm, msg) {\n",
       "    // This is the function which gets called when the mpl process\n",
       "    // starts-up an IPython Comm through the \"matplotlib\" channel.\n",
       "\n",
       "    var id = msg.content.data.id;\n",
       "    // Get hold of the div created by the display call when the Comm\n",
       "    // socket was opened in Python.\n",
       "    var element = $(\"#\" + id);\n",
       "    var ws_proxy = comm_websocket_adapter(comm)\n",
       "\n",
       "    function ondownload(figure, format) {\n",
       "        window.open(figure.imageObj.src);\n",
       "    }\n",
       "\n",
       "    var fig = new mpl.figure(id, ws_proxy,\n",
       "                           ondownload,\n",
       "                           element.get(0));\n",
       "\n",
       "    // Call onopen now - mpl needs it, as it is assuming we've passed it a real\n",
       "    // web socket which is closed, not our websocket->open comm proxy.\n",
       "    ws_proxy.onopen();\n",
       "\n",
       "    fig.parent_element = element.get(0);\n",
       "    fig.cell_info = mpl.find_output_cell(\"<div id='\" + id + \"'></div>\");\n",
       "    if (!fig.cell_info) {\n",
       "        console.error(\"Failed to find cell for figure\", id, fig);\n",
       "        return;\n",
       "    }\n",
       "\n",
       "    var output_index = fig.cell_info[2]\n",
       "    var cell = fig.cell_info[0];\n",
       "\n",
       "};\n",
       "\n",
       "mpl.figure.prototype.handle_close = function(fig, msg) {\n",
       "    var width = fig.canvas.width/mpl.ratio\n",
       "    fig.root.unbind('remove')\n",
       "\n",
       "    // Update the output cell to use the data from the current canvas.\n",
       "    fig.push_to_output();\n",
       "    var dataURL = fig.canvas.toDataURL();\n",
       "    // Re-enable the keyboard manager in IPython - without this line, in FF,\n",
       "    // the notebook keyboard shortcuts fail.\n",
       "    IPython.keyboard_manager.enable()\n",
       "    $(fig.parent_element).html('<img src=\"' + dataURL + '\" width=\"' + width + '\">');\n",
       "    fig.close_ws(fig, msg);\n",
       "}\n",
       "\n",
       "mpl.figure.prototype.close_ws = function(fig, msg){\n",
       "    fig.send_message('closing', msg);\n",
       "    // fig.ws.close()\n",
       "}\n",
       "\n",
       "mpl.figure.prototype.push_to_output = function(remove_interactive) {\n",
       "    // Turn the data on the canvas into data in the output cell.\n",
       "    var width = this.canvas.width/mpl.ratio\n",
       "    var dataURL = this.canvas.toDataURL();\n",
       "    this.cell_info[1]['text/html'] = '<img src=\"' + dataURL + '\" width=\"' + width + '\">';\n",
       "}\n",
       "\n",
       "mpl.figure.prototype.updated_canvas_event = function() {\n",
       "    // Tell IPython that the notebook contents must change.\n",
       "    IPython.notebook.set_dirty(true);\n",
       "    this.send_message(\"ack\", {});\n",
       "    var fig = this;\n",
       "    // Wait a second, then push the new image to the DOM so\n",
       "    // that it is saved nicely (might be nice to debounce this).\n",
       "    setTimeout(function () { fig.push_to_output() }, 1000);\n",
       "}\n",
       "\n",
       "mpl.figure.prototype._init_toolbar = function() {\n",
       "    var fig = this;\n",
       "\n",
       "    var nav_element = $('<div/>')\n",
       "    nav_element.attr('style', 'width: 100%');\n",
       "    this.root.append(nav_element);\n",
       "\n",
       "    // Define a callback function for later on.\n",
       "    function toolbar_event(event) {\n",
       "        return fig.toolbar_button_onclick(event['data']);\n",
       "    }\n",
       "    function toolbar_mouse_event(event) {\n",
       "        return fig.toolbar_button_onmouseover(event['data']);\n",
       "    }\n",
       "\n",
       "    for(var toolbar_ind in mpl.toolbar_items){\n",
       "        var name = mpl.toolbar_items[toolbar_ind][0];\n",
       "        var tooltip = mpl.toolbar_items[toolbar_ind][1];\n",
       "        var image = mpl.toolbar_items[toolbar_ind][2];\n",
       "        var method_name = mpl.toolbar_items[toolbar_ind][3];\n",
       "\n",
       "        if (!name) { continue; };\n",
       "\n",
       "        var button = $('<button class=\"btn btn-default\" href=\"#\" title=\"' + name + '\"><i class=\"fa ' + image + ' fa-lg\"></i></button>');\n",
       "        button.click(method_name, toolbar_event);\n",
       "        button.mouseover(tooltip, toolbar_mouse_event);\n",
       "        nav_element.append(button);\n",
       "    }\n",
       "\n",
       "    // Add the status bar.\n",
       "    var status_bar = $('<span class=\"mpl-message\" style=\"text-align:right; float: right;\"/>');\n",
       "    nav_element.append(status_bar);\n",
       "    this.message = status_bar[0];\n",
       "\n",
       "    // Add the close button to the window.\n",
       "    var buttongrp = $('<div class=\"btn-group inline pull-right\"></div>');\n",
       "    var button = $('<button class=\"btn btn-mini btn-primary\" href=\"#\" title=\"Stop Interaction\"><i class=\"fa fa-power-off icon-remove icon-large\"></i></button>');\n",
       "    button.click(function (evt) { fig.handle_close(fig, {}); } );\n",
       "    button.mouseover('Stop Interaction', toolbar_mouse_event);\n",
       "    buttongrp.append(button);\n",
       "    var titlebar = this.root.find($('.ui-dialog-titlebar'));\n",
       "    titlebar.prepend(buttongrp);\n",
       "}\n",
       "\n",
       "mpl.figure.prototype._root_extra_style = function(el){\n",
       "    var fig = this\n",
       "    el.on(\"remove\", function(){\n",
       "\tfig.close_ws(fig, {});\n",
       "    });\n",
       "}\n",
       "\n",
       "mpl.figure.prototype._canvas_extra_style = function(el){\n",
       "    // this is important to make the div 'focusable\n",
       "    el.attr('tabindex', 0)\n",
       "    // reach out to IPython and tell the keyboard manager to turn it's self\n",
       "    // off when our div gets focus\n",
       "\n",
       "    // location in version 3\n",
       "    if (IPython.notebook.keyboard_manager) {\n",
       "        IPython.notebook.keyboard_manager.register_events(el);\n",
       "    }\n",
       "    else {\n",
       "        // location in version 2\n",
       "        IPython.keyboard_manager.register_events(el);\n",
       "    }\n",
       "\n",
       "}\n",
       "\n",
       "mpl.figure.prototype._key_event_extra = function(event, name) {\n",
       "    var manager = IPython.notebook.keyboard_manager;\n",
       "    if (!manager)\n",
       "        manager = IPython.keyboard_manager;\n",
       "\n",
       "    // Check for shift+enter\n",
       "    if (event.shiftKey && event.which == 13) {\n",
       "        this.canvas_div.blur();\n",
       "        event.shiftKey = false;\n",
       "        // Send a \"J\" for go to next cell\n",
       "        event.which = 74;\n",
       "        event.keyCode = 74;\n",
       "        manager.command_mode();\n",
       "        manager.handle_keydown(event);\n",
       "    }\n",
       "}\n",
       "\n",
       "mpl.figure.prototype.handle_save = function(fig, msg) {\n",
       "    fig.ondownload(fig, null);\n",
       "}\n",
       "\n",
       "\n",
       "mpl.find_output_cell = function(html_output) {\n",
       "    // Return the cell and output element which can be found *uniquely* in the notebook.\n",
       "    // Note - this is a bit hacky, but it is done because the \"notebook_saving.Notebook\"\n",
       "    // IPython event is triggered only after the cells have been serialised, which for\n",
       "    // our purposes (turning an active figure into a static one), is too late.\n",
       "    var cells = IPython.notebook.get_cells();\n",
       "    var ncells = cells.length;\n",
       "    for (var i=0; i<ncells; i++) {\n",
       "        var cell = cells[i];\n",
       "        if (cell.cell_type === 'code'){\n",
       "            for (var j=0; j<cell.output_area.outputs.length; j++) {\n",
       "                var data = cell.output_area.outputs[j];\n",
       "                if (data.data) {\n",
       "                    // IPython >= 3 moved mimebundle to data attribute of output\n",
       "                    data = data.data;\n",
       "                }\n",
       "                if (data['text/html'] == html_output) {\n",
       "                    return [cell, data, j];\n",
       "                }\n",
       "            }\n",
       "        }\n",
       "    }\n",
       "}\n",
       "\n",
       "// Register the function which deals with the matplotlib target/channel.\n",
       "// The kernel may be null if the page has been refreshed.\n",
       "if (IPython.notebook.kernel != null) {\n",
       "    IPython.notebook.kernel.comm_manager.register_target('matplotlib', mpl.mpl_figure_comm);\n",
       "}\n"
      ],
      "text/plain": [
       "<IPython.core.display.Javascript object>"
      ]
     },
     "metadata": {},
     "output_type": "display_data"
    },
    {
     "data": {
      "text/html": [
       "<img src=\"data:image/png;base64,iVBORw0KGgoAAAANSUhEUgAAAbAAAAEgCAYAAADVKCZpAAAB+UlEQVR4nO3BMQEAAADCoPVP7WkJoAAAAAAAAAAAAAAAAAAAAAAAAAAAAAAAAAAAAAAAAAAAAAAAAAAAAAAAAAAAAAAAAAAAAAAAAAAAAAAAAAAAAAAAAAAAAAAAAAAAAAAAAAAAAAAAAAAAAAAAAAAAAAAAAAAAAAAAAAAAAAAAAAAAAAAAAAAAAAAAAAAAAAAAAAAAAAAAAAAAAAAAAAAAAAAAAAAAAAAAAAAAAAAAAAAAAAAAAAAAAAAAAAAAAAAAAAAAAAAAAAAAAAAAAAAAAAAAAAAAAAAAAAAAAAAAAAAAAAAAAAAAAAAAAAAAAAAAAAAAAAAAAAAAAAAAAAAAAAAAAAAAAAAAAAAAAAAAAAAAAAAAAAAAAAAAAAAAAAAAAAAAAAAAAAAAAAAAAAAAAAAAAAAAAAAAAAAAAAAAAAAAAAAAAAAAAAAAAAAAAAAAAAAAAAAAAAAAAAAAAAAAAAAAAAAAAAAAAAAAAAAAAAAAAAAAAAAAAAAAAAAAAAAAAAAAAAAAAAAAAAAAAAAAAAAAAAAAAAAAAAAAAAAAAAAAAAAAAAAAAAAAAAAAAAAAAAAAAAAAAAAAAAAAAAAAAAAAAAAAAAAAAAAAAAAAAAAAAAAAAAAAAAAAAAAAAAAAAAAAAAAAAAAAAAAAAAAAAAAAAAAA4AaZiQAB1KMUfAAAAABJRU5ErkJggg==\" width=\"432\">"
      ],
      "text/plain": [
       "<IPython.core.display.HTML object>"
      ]
     },
     "metadata": {},
     "output_type": "display_data"
    },
    {
     "data": {
      "image/png": "[encoded data removed]",
      "text/plain": [
       "<Figure size 432x288 with 1 Axes>"
      ]
     },
     "metadata": {
      "needs_background": "light"
     },
     "output_type": "display_data"
    }
   ],
   "source": [
    "plt.plot([1,2,3,4])\n",
    "plt.show()"
   ]
  },
  {
   "cell_type": "code",
   "execution_count": 5,
   "metadata": {},
   "outputs": [
    {
     "data": {
      "image/png": "[encoded data removed]",
      "text/plain": [
       "<Figure size 432x288 with 1 Axes>"
      ]
     },
     "metadata": {
      "needs_background": "light"
     },
     "output_type": "display_data"
    }
   ],
   "source": [
    "%matplotlib inline\n",
    "plt.plot([1,2,3,4])\n",
    "plt.show()"
   ]
  },
  {
   "cell_type": "code",
   "execution_count": 7,
   "metadata": {
    "scrolled": true
   },
   "outputs": [
    {
     "data": {
      "text/plain": [
       "Text(0.5, 1.0, 'Título del Gráfico')"
      ]
     },
     "execution_count": 7,
     "metadata": {},
     "output_type": "execute_result"
    },
    {
     "data": {
      "image/png": "[encoded data removed]",
      "text/plain": [
       "<Figure size 432x288 with 1 Axes>"
      ]
     },
     "metadata": {
      "needs_background": "light"
     },
     "output_type": "display_data"
    }
   ],
   "source": [
    "plt.plot([2,5,9,15,21])\n",
    "plt.ylabel('etiqueta vertical')\n",
    "plt.xlabel('etiqueta horizontal')\n",
    "plt.title('Título del Gráfico')"
   ]
  },
  {
   "cell_type": "code",
   "execution_count": 8,
   "metadata": {},
   "outputs": [
    {
     "data": {
      "text/plain": [
       "[<matplotlib.lines.Line2D at 0x2695e643f60>]"
      ]
     },
     "execution_count": 8,
     "metadata": {},
     "output_type": "execute_result"
    },
    {
     "data": {
      "image/png": "[encoded data removed]",
      "text/plain": [
       "<Figure size 432x288 with 1 Axes>"
      ]
     },
     "metadata": {
      "needs_background": "light"
     },
     "output_type": "display_data"
    }
   ],
   "source": [
    "plt.plot([2,4,6,8],[1,4,9,16])"
   ]
  },
  {
   "cell_type": "code",
   "execution_count": 16,
   "metadata": {},
   "outputs": [
    {
     "data": {
      "text/plain": [
       "[0, 10, 0, 70]"
      ]
     },
     "execution_count": 16,
     "metadata": {},
     "output_type": "execute_result"
    },
    {
     "data": {
      "image/png": "[encoded data removed]",
      "text/plain": [
       "<Figure size 432x288 with 1 Axes>"
      ]
     },
     "metadata": {
      "needs_background": "light"
     },
     "output_type": "display_data"
    }
   ],
   "source": [
    "plt.plot([1,2,3,4],[1,8,27,64],'ro')\n",
    "plt.plot([1,2,3,4],[1,8,27,64],'r-')\n",
    "plt.axis([0,10,0,70])"
   ]
  },
  {
   "cell_type": "code",
   "execution_count": 20,
   "metadata": {},
   "outputs": [
    {
     "data": {
      "text/plain": [
       "[<matplotlib.lines.Line2D at 0x2695e9469e8>,\n",
       " <matplotlib.lines.Line2D at 0x2695e946b38>,\n",
       " <matplotlib.lines.Line2D at 0x2695e946e80>,\n",
       " <matplotlib.lines.Line2D at 0x2695e950208>]"
      ]
     },
     "execution_count": 20,
     "metadata": {},
     "output_type": "execute_result"
    },
    {
     "data": {
      "image/png": "[encoded data removed]",
      "text/plain": [
       "<Figure size 432x288 with 1 Axes>"
      ]
     },
     "metadata": {
      "needs_background": "light"
     },
     "output_type": "display_data"
    }
   ],
   "source": [
    "import numpy as np\n",
    "t = np.arange(0., 5., 0.2)\n",
    "plt.plot(t, t, 'r--', t, t**2, 'bs', t, t**3, 'g^', t, t**4, 'm.')"
   ]
  },
  {
   "cell_type": "code",
   "execution_count": 26,
   "metadata": {},
   "outputs": [
    {
     "data": {
      "text/plain": [
       "[0, 1, 0, 100]"
      ]
     },
     "execution_count": 26,
     "metadata": {},
     "output_type": "execute_result"
    },
    {
     "data": {
      "image/png": "[encoded data removed]",
      "text/plain": [
       "<Figure size 432x288 with 1 Axes>"
      ]
     },
     "metadata": {
      "needs_background": "light"
     },
     "output_type": "display_data"
    }
   ],
   "source": [
    "x = np.arange(0.01,1,0.01)\n",
    "y1 = 1/x\n",
    "y2 = 1/x**2\n",
    "y3 = 1/x**3\n",
    "y4 = 1/x**4\n",
    "plt.plot(x,y1,\"b.\")\n",
    "plt.plot(x,y2,\"r--\")\n",
    "plt.plot(x,y3,\"g-.\")\n",
    "plt.plot(x,y4,\"m:\")\n",
    "plt.axis([0,1,0,100])"
   ]
  },
  {
   "cell_type": "code",
   "execution_count": 28,
   "metadata": {},
   "outputs": [
    {
     "data": {
      "text/plain": [
       "[0, 1, 0, 100]"
      ]
     },
     "execution_count": 28,
     "metadata": {},
     "output_type": "execute_result"
    },
    {
     "data": {
      "image/png": "[encoded data removed]",
      "text/plain": [
       "<Figure size 432x288 with 4 Axes>"
      ]
     },
     "metadata": {
      "needs_background": "light"
     },
     "output_type": "display_data"
    }
   ],
   "source": [
    "x = np.arange(0.01,1,0.01)\n",
    "y1 = 1/x\n",
    "y2 = 1/x**2\n",
    "y3 = 1/x**3\n",
    "y4 = 1/x**4\n",
    "\n",
    "plt.subplot(2,2,1)\n",
    "plt.plot(x,y1,\"b.\")\n",
    "plt.axis([0,1,0,100])\n",
    "\n",
    "plt.subplot(2,2,2)\n",
    "plt.plot(x,y2,\"r--\")\n",
    "plt.axis([0,1,0,100])\n",
    "\n",
    "plt.subplot(2,2,3)\n",
    "plt.plot(x,y3,\"g-.\")\n",
    "plt.axis([0,1,0,100])\n",
    "\n",
    "plt.subplot(2,2,4)\n",
    "plt.plot(x,y4,\"m:\")\n",
    "plt.axis([0,1,0,100])"
   ]
  },
  {
   "cell_type": "code",
   "execution_count": 29,
   "metadata": {},
   "outputs": [
    {
     "data": {
      "text/plain": [
       "[0, 1, 0, 100]"
      ]
     },
     "execution_count": 29,
     "metadata": {},
     "output_type": "execute_result"
    },
    {
     "data": {
      "image/png": "[encoded data removed]",
      "text/plain": [
       "<Figure size 432x288 with 4 Axes>"
      ]
     },
     "metadata": {
      "needs_background": "light"
     },
     "output_type": "display_data"
    }
   ],
   "source": [
    "x = np.arange(0.01,1,0.01)\n",
    "y1 = 1/x\n",
    "y2 = 1/x**2\n",
    "y3 = 1/x**3\n",
    "y4 = 1/x**4\n",
    "\n",
    "plt.subplot(1,4,1)\n",
    "plt.plot(x,y1,\"b.\")\n",
    "plt.axis([0,1,0,100])\n",
    "\n",
    "plt.subplot(1,4,2)\n",
    "plt.plot(x,y2,\"r--\")\n",
    "plt.axis([0,1,0,100])\n",
    "\n",
    "plt.subplot(1,4,3)\n",
    "plt.plot(x,y3,\"g-.\")\n",
    "plt.axis([0,1,0,100])\n",
    "\n",
    "plt.subplot(1,4,4)\n",
    "plt.plot(x,y4,\"m:\")\n",
    "plt.axis([0,1,0,100])"
   ]
  },
  {
   "cell_type": "code",
   "execution_count": 30,
   "metadata": {},
   "outputs": [
    {
     "name": "stdout",
     "output_type": "stream",
     "text": [
      "Available matplotlib backends: ['tk', 'gtk', 'gtk3', 'wx', 'qt4', 'qt5', 'qt', 'osx', 'nbagg', 'notebook', 'agg', 'svg', 'pdf', 'ps', 'inline', 'ipympl', 'widget']\n"
     ]
    }
   ],
   "source": [
    "%matplotlib --list"
   ]
  },
  {
   "cell_type": "code",
   "execution_count": 31,
   "metadata": {},
   "outputs": [
    {
     "name": "stdout",
     "output_type": "stream",
     "text": [
      "module://ipykernel.pylab.backend_inline\n"
     ]
    }
   ],
   "source": [
    "print(matplotlib.get_backend())"
   ]
  },
  {
   "cell_type": "code",
   "execution_count": 54,
   "metadata": {},
   "outputs": [
    {
     "data": {
      "text/plain": [
       "[<matplotlib.lines.Line2D at 0x26960553b00>]"
      ]
     },
     "execution_count": 54,
     "metadata": {},
     "output_type": "execute_result"
    },
    {
     "data": {
      "image/png": "[encoded data removed]",
      "text/plain": [
       "<Figure size 432x288 with 6 Axes>"
      ]
     },
     "metadata": {
      "needs_background": "light"
     },
     "output_type": "display_data"
    }
   ],
   "source": [
    "x = np.arange(-10,10,0.1)\n",
    "x2 = np.arange(-1,1,0.1)\n",
    "seno = np.sin(x)\n",
    "coseno = np.cos(x)\n",
    "tangente = np.tan(x)\n",
    "arcocoseno = np.arccos(x2)\n",
    "arcoseno = np.arcsin(x2)\n",
    "arcotangente = np.arctan(x)\n",
    "\n",
    "plt.subplot(2,3,1)\n",
    "plt.plot(x,seno)\n",
    "plt.subplot(2,3,2)\n",
    "plt.plot(x,coseno)\n",
    "plt.subplot(2,3,3)\n",
    "plt.plot(x,tangente)\n",
    "plt.subplot(2,3,4)\n",
    "plt.plot(x2,arcoseno)\n",
    "plt.subplot(2,3,5)\n",
    "plt.plot(x2,arcocoseno)\n",
    "plt.subplot(2,3,6)\n",
    "plt.plot(x,arcotangente)"
   ]
  },
  {
   "cell_type": "code",
   "execution_count": 58,
   "metadata": {},
   "outputs": [
    {
     "data": {
      "image/png": "[encoded data removed]",
      "text/plain": [
       "<Figure size 432x288 with 1 Axes>"
      ]
     },
     "metadata": {
      "needs_background": "light"
     },
     "output_type": "display_data"
    }
   ],
   "source": [
    "# guardar imagen\n",
    "import numpy as np\n",
    "x = np.arange(-10,10,0.1)\n",
    "tangente = np.tan(x)\n",
    "plt.plot(x,tangente)\n",
    "plt.savefig(\"tangente.pdf\")"
   ]
  },
  {
   "cell_type": "code",
   "execution_count": 76,
   "metadata": {},
   "outputs": [
    {
     "data": {
      "text/plain": [
       "Text(0, 0.5, 'Población')"
      ]
     },
     "execution_count": 76,
     "metadata": {},
     "output_type": "execute_result"
    },
    {
     "data": {
      "image/png": "[encoded data removed]",
      "text/plain": [
       "<Figure size 432x288 with 1 Axes>"
      ]
     },
     "metadata": {
      "needs_background": "light"
     },
     "output_type": "display_data"
    }
   ],
   "source": [
    "# ejercicio: graficar el crecimiento poblacional de un país desde 1960 hasta 2018\n",
    "poblacion = np.array([\"16057724\",\"16567811\",\"17092918\",\"17629979\",\"18175185\",\"18725245\",\"19279740\",\"19837510\",\"20393699\",\"20942456\",\"21480065\",\"22003980\",\"22516425\",\"23024517\",\"23538386\",\"24065507\",\"24608113\",\"25164545\",\"25733673\",\"26312994\",\"26900506\",\"27496617\",\"28101819\",\"28714190\",\"29331238\",\"29951201\",\"30572478\",\"31195413\",\"31822525\",\"32457499\",\"33102575\",\"33758337\",\"34422569\",\"35091275\",\"35758979\",\"36421438\",\"37076387\",\"37723800\",\"38364309\",\"38999471\",\"39629968\",\"40255967\",\"40875360\",\"41483869\",\"42075955\",\"42647723\",\"43200897\",\"43737516\",\"44254975\",\"44750054\",\"45222700\",\"45663099\",\"46076848\",\"46497267\",\"46969209\",\"47520667\",\"48171392\",\"48901066\",\"49648685\"],dtype=int)\n",
    "anos = np.arange(1960,2019,1)\n",
    "plt.plot(anos,poblacion)\n",
    "plt.title('Población de Colombia')\n",
    "plt.xlabel('Años')\n",
    "plt.ylabel('Población')"
   ]
  },
  {
   "cell_type": "code",
   "execution_count": 94,
   "metadata": {},
   "outputs": [
    {
     "data": {
      "text/plain": [
       "(77000000, 83000000)"
      ]
     },
     "execution_count": 94,
     "metadata": {},
     "output_type": "execute_result"
    },
    {
     "data": {
      "image/png": "[encoded data removed]",
      "text/plain": [
       "<Figure size 432x288 with 1 Axes>"
      ]
     },
     "metadata": {
      "needs_background": "light"
     },
     "output_type": "display_data"
    }
   ],
   "source": [
    "# ejercicio: graficar el crecimiento poblacional de un país desde 1960 hasta 2018\n",
    "poblacion = np.array([\"72814900\",\"73377632\",\"74025784\",\"74714353\",\"75318337\",\"75963695\",\"76600311\",\"76951336\",\"77294314\",\"77909682\",\"78169289\",\"78312842\",\"78688452\",\"78936666\",\"78967433\",\"78673554\",\"78336950\",\"78159814\",\"78091820\",\"78126350\",\"78288576\",\"78407907\",\"78333366\",\"78128282\",\"77858685\",\"77684873\",\"77720436\",\"77839920\",\"78144619\",\"78751283\",\"79433029\",\"80013896\",\"80624598\",\"81156363\",\"81438348\",\"81678051\",\"81914831\",\"82034771\",\"82047195\",\"82100243\",\"82211508\",\"82349925\",\"82488495\",\"82534176\",\"82516260\",\"82469422\",\"82376451\",\"82266372\",\"82110097\",\"81902307\",\"81776930\",\"80274983\",\"80425823\",\"80645605\",\"80982500\",\"81686611\",\"82348669\",\"82657002\",\"82927922\"],dtype=int)\n",
    "anos = np.arange(1960,2019,1)\n",
    "plt.plot(anos,poblacion,c='orange',ls='--',marker='+')\n",
    "plt.title('Población de Alemania')\n",
    "plt.xlabel('Años')\n",
    "plt.ylabel('Población')\n",
    "plt.xlim(1970,2015)\n",
    "plt.ylim(77000000,83000000)"
   ]
  },
  {
   "cell_type": "markdown",
   "metadata": {},
   "source": [
    "### Histograma"
   ]
  },
  {
   "cell_type": "code",
   "execution_count": 113,
   "metadata": {},
   "outputs": [
    {
     "data": {
      "image/png": "[encoded data removed]",
      "text/plain": [
       "<Figure size 432x288 with 1 Axes>"
      ]
     },
     "metadata": {
      "needs_background": "light"
     },
     "output_type": "display_data"
    }
   ],
   "source": [
    "x = np.random.randn(1000)*15+100\n",
    "plt.xlabel('IQ')\n",
    "plt.ylabel('Probabilidad')\n",
    "plt.title('Histograma de IQ')\n",
    "plt.hist(x,50)\n",
    "plt.show()"
   ]
  },
  {
   "cell_type": "code",
   "execution_count": 119,
   "metadata": {
    "scrolled": true
   },
   "outputs": [
    {
     "data": {
      "image/png": "[encoded data removed]",
      "text/plain": [
       "<Figure size 432x288 with 1 Axes>"
      ]
     },
     "metadata": {
      "needs_background": "light"
     },
     "output_type": "display_data"
    },
    {
     "name": "stdout",
     "output_type": "stream",
     "text": [
      "15\n"
     ]
    }
   ],
   "source": [
    "nombres = [\"Ana\",\"Juan\",\"Víctor\",\"Juan\",\"José\",\"Ana\",\"Ana\",\"Ana\",\"Luis\",\"Andrés\",\"Juan\",\"Pedro\",\"Andrés\",\"Juan\",\"Ana\"]\n",
    "plt.xlabel('Nombres')\n",
    "plt.ylabel('Frecuencia')\n",
    "plt.title('Frecuencia de Nombres')\n",
    "plt.hist(nombres,len(nombres))\n",
    "plt.show()\n",
    "print(len(nombres))"
   ]
  },
  {
   "cell_type": "code",
   "execution_count": 122,
   "metadata": {},
   "outputs": [
    {
     "data": {
      "text/plain": [
       "['\\ufeff\"Country Name\",\"Country Code\",\"Region\",\"Income_Group\",\\n',\n",
       " '\"Aruba\",\"ABW\",\"\",\"Ingreso alto\",\\n',\n",
       " '\"Afganistán\",\"AFG\",\"Asia meridional\",\"Países de ingreso bajo\",\\n',\n",
       " '\"Angola\",\"AGO\",\"África al sur del Sahara (excluido altos ingresos)\",\"Países de ingreso mediano bajo\",\\n',\n",
       " '\"Albania\",\"ALB\",\"Europa y Asia central (excluido altos ingresos)\",\"Ingreso mediano alto\",\\n',\n",
       " '\"Andorra\",\"AND\",\"\",\"Ingreso alto\",\\n',\n",
       " '\"El mundo árabe\",\"ARB\",\"\",\"Agregados\",\\n',\n",
       " '\"Emiratos Árabes Unidos\",\"ARE\",\"\",\"Ingreso alto\",\\n',\n",
       " '\"Argentina\",\"ARG\",\"América Latina y el Caribe (excluido altos ingresos)\",\"Ingreso mediano alto\",\\n',\n",
       " '\"Armenia\",\"ARM\",\"Europa y Asia central (excluido altos ingresos)\",\"Ingreso mediano alto\",\\n',\n",
       " '\"Samoa Americana\",\"ASM\",\"Asia oriental y el Pacífico (excluido altos ingresos)\",\"Ingreso mediano alto\",\\n',\n",
       " '\"Antigua y Barbuda\",\"ATG\",\"\",\"Ingreso alto\",\\n',\n",
       " '\"Australia\",\"AUS\",\"\",\"Ingreso alto\",\\n',\n",
       " '\"Austria\",\"AUT\",\"\",\"Ingreso alto\",\\n',\n",
       " '\"Azerbaiyán\",\"AZE\",\"Europa y Asia central (excluido altos ingresos)\",\"Ingreso mediano alto\",\\n',\n",
       " '\"Burundi\",\"BDI\",\"África al sur del Sahara (excluido altos ingresos)\",\"Países de ingreso bajo\",\\n',\n",
       " '\"Bélgica\",\"BEL\",\"\",\"Ingreso alto\",\\n',\n",
       " '\"Benin\",\"BEN\",\"África al sur del Sahara (excluido altos ingresos)\",\"Países de ingreso bajo\",\\n',\n",
       " '\"Burkina Faso\",\"BFA\",\"África al sur del Sahara (excluido altos ingresos)\",\"Países de ingreso bajo\",\\n',\n",
       " '\"Bangladesh\",\"BGD\",\"Asia meridional\",\"Países de ingreso mediano bajo\",\\n',\n",
       " '\"Bulgaria\",\"BGR\",\"Europa y Asia central (excluido altos ingresos)\",\"Ingreso mediano alto\",\\n',\n",
       " '\"Bahrein\",\"BHR\",\"\",\"Ingreso alto\",\\n',\n",
       " '\"Bahamas\",\"BHS\",\"\",\"Ingreso alto\",\\n',\n",
       " '\"Bosnia y Herzegovina\",\"BIH\",\"Europa y Asia central (excluido altos ingresos)\",\"Ingreso mediano alto\",\\n',\n",
       " '\"Belarús\",\"BLR\",\"Europa y Asia central (excluido altos ingresos)\",\"Ingreso mediano alto\",\\n',\n",
       " '\"Belice\",\"BLZ\",\"América Latina y el Caribe (excluido altos ingresos)\",\"Ingreso mediano alto\",\\n',\n",
       " '\"Bermudas\",\"BMU\",\"\",\"Ingreso alto\",\\n',\n",
       " '\"Bolivia\",\"BOL\",\"América Latina y el Caribe (excluido altos ingresos)\",\"Países de ingreso mediano bajo\",\\n',\n",
       " '\"Brasil\",\"BRA\",\"América Latina y el Caribe (excluido altos ingresos)\",\"Ingreso mediano alto\",\\n',\n",
       " '\"Barbados\",\"BRB\",\"\",\"Ingreso alto\",\\n',\n",
       " '\"Brunei Darussalam\",\"BRN\",\"\",\"Ingreso alto\",\\n',\n",
       " '\"Bhután\",\"BTN\",\"Asia meridional\",\"Países de ingreso mediano bajo\",\\n',\n",
       " '\"Botswana\",\"BWA\",\"África al sur del Sahara (excluido altos ingresos)\",\"Ingreso mediano alto\",\\n',\n",
       " '\"República Centroafricana\",\"CAF\",\"África al sur del Sahara (excluido altos ingresos)\",\"Países de ingreso bajo\",\\n',\n",
       " '\"Canadá\",\"CAN\",\"\",\"Ingreso alto\",\\n',\n",
       " '\"Europa Central y del Báltico\\n',\n",
       " '\",\"CEB\",\"\",\"Agregados\",\\n',\n",
       " '\"Suiza\",\"CHE\",\"\",\"Ingreso alto\",\\n',\n",
       " '\"Islas del Canal\",\"CHI\",\"\",\"Ingreso alto\",\\n',\n",
       " '\"Chile\",\"CHL\",\"\",\"Ingreso alto\",\\n',\n",
       " '\"China\",\"CHN\",\"Asia oriental y el Pacífico (excluido altos ingresos)\",\"Ingreso mediano alto\",\\n',\n",
       " '\"Côte d\\'Ivoire\",\"CIV\",\"África al sur del Sahara (excluido altos ingresos)\",\"Países de ingreso mediano bajo\",\\n',\n",
       " '\"Camerún\",\"CMR\",\"África al sur del Sahara (excluido altos ingresos)\",\"Países de ingreso mediano bajo\",\\n',\n",
       " '\"Congo, República Democrática del\",\"COD\",\"África al sur del Sahara (excluido altos ingresos)\",\"Países de ingreso bajo\",\\n',\n",
       " '\"Congo, República del\",\"COG\",\"África al sur del Sahara (excluido altos ingresos)\",\"Países de ingreso mediano bajo\",\\n',\n",
       " '\"Colombia\",\"COL\",\"América Latina y el Caribe (excluido altos ingresos)\",\"Ingreso mediano alto\",\\n',\n",
       " '\"Comoras\",\"COM\",\"África al sur del Sahara (excluido altos ingresos)\",\"Países de ingreso mediano bajo\",\\n',\n",
       " '\"Cabo Verde\",\"CPV\",\"África al sur del Sahara (excluido altos ingresos)\",\"Países de ingreso mediano bajo\",\\n',\n",
       " '\"Costa Rica\",\"CRI\",\"América Latina y el Caribe (excluido altos ingresos)\",\"Ingreso mediano alto\",\\n',\n",
       " '\"Estados pequeos del Caribe\",\"CSS\",\"\",\"Agregados\",\\n',\n",
       " '\"Cuba\",\"CUB\",\"América Latina y el Caribe (excluido altos ingresos)\",\"Ingreso mediano alto\",\\n',\n",
       " '\"Curacao\",\"CUW\",\"\",\"Ingreso alto\",\\n',\n",
       " '\"Islas Caimán\",\"CYM\",\"\",\"Ingreso alto\",\\n',\n",
       " '\"Chipre\",\"CYP\",\"\",\"Ingreso alto\",\\n',\n",
       " '\"República Checa\",\"CZE\",\"\",\"Ingreso alto\",\\n',\n",
       " '\"Alemania\",\"DEU\",\"\",\"Ingreso alto\",\\n',\n",
       " '\"Djibouti\",\"DJI\",\"Oriente Medio y Norte de África (excluido altos ingresos)\",\"Países de ingreso mediano bajo\",\\n',\n",
       " '\"Dominica\",\"DMA\",\"América Latina y el Caribe (excluido altos ingresos)\",\"Ingreso mediano alto\",\\n',\n",
       " '\"Dinamarca\",\"DNK\",\"\",\"Ingreso alto\",\\n',\n",
       " '\"República Dominicana\",\"DOM\",\"América Latina y el Caribe (excluido altos ingresos)\",\"Ingreso mediano alto\",\\n',\n",
       " '\"Argelia\",\"DZA\",\"Oriente Medio y Norte de África (excluido altos ingresos)\",\"Ingreso mediano alto\",\\n',\n",
       " '\"Asia oriental y el Pacífico (excluido altos ingresos)\",\"EAP\",\"\",\"Agregados\",\\n',\n",
       " '\"inicial del dividendo demográfico\",\"EAR\",\"\",\"Agregados\",\\n',\n",
       " '\"Asia oriental y el Pacífico \",\"EAS\",\"\",\"Agregados\",\\n',\n",
       " '\"Europa y Asia central (excluido altos ingresos)\",\"ECA\",\"\",\"Agregados\",\\n',\n",
       " '\"Europa y Asia central\",\"ECS\",\"\",\"Agregados\",\\n',\n",
       " '\"Ecuador\",\"ECU\",\"América Latina y el Caribe (excluido altos ingresos)\",\"Ingreso mediano alto\",\\n',\n",
       " '\"Egipto, República Árabe de\",\"EGY\",\"Oriente Medio y Norte de África (excluido altos ingresos)\",\"Países de ingreso mediano bajo\",\\n',\n",
       " '\"Zona del Euro\",\"EMU\",\"\",\"Agregados\",\\n',\n",
       " '\"Eritrea\",\"ERI\",\"África al sur del Sahara (excluido altos ingresos)\",\"Países de ingreso bajo\",\\n',\n",
       " '\"España\",\"ESP\",\"\",\"Ingreso alto\",\\n',\n",
       " '\"Estonia\",\"EST\",\"\",\"Ingreso alto\",\\n',\n",
       " '\"Etiopía\",\"ETH\",\"África al sur del Sahara (excluido altos ingresos)\",\"Países de ingreso bajo\",\\n',\n",
       " '\"Unión Europea\",\"EUU\",\"\",\"Agregados\",\\n',\n",
       " '\"Frágiles y situaciones de conflicto afectados\\n',\n",
       " '\",\"FCS\",\"\",\"Agregados\",\\n',\n",
       " '\"Finlandia\",\"FIN\",\"\",\"Ingreso alto\",\\n',\n",
       " '\"Fiji\",\"FJI\",\"Asia oriental y el Pacífico (excluido altos ingresos)\",\"Ingreso mediano alto\",\\n',\n",
       " '\"Francia\",\"FRA\",\"\",\"Ingreso alto\",\\n',\n",
       " '\"Islas Feroe\",\"FRO\",\"\",\"Ingreso alto\",\\n',\n",
       " '\"Micronesia (Estados Federados de)\",\"FSM\",\"Asia oriental y el Pacífico (excluido altos ingresos)\",\"Países de ingreso mediano bajo\",\\n',\n",
       " '\"Gabón\",\"GAB\",\"África al sur del Sahara (excluido altos ingresos)\",\"Ingreso mediano alto\",\\n',\n",
       " '\"Reino Unido\",\"GBR\",\"\",\"Ingreso alto\",\\n',\n",
       " '\"Georgia\",\"GEO\",\"Europa y Asia central (excluido altos ingresos)\",\"Ingreso mediano alto\",\\n',\n",
       " '\"Ghana\",\"GHA\",\"África al sur del Sahara (excluido altos ingresos)\",\"Países de ingreso mediano bajo\",\\n',\n",
       " '\"Gibraltar\",\"GIB\",\"\",\"Ingreso alto\",\\n',\n",
       " '\"Guinea\",\"GIN\",\"África al sur del Sahara (excluido altos ingresos)\",\"Países de ingreso bajo\",\\n',\n",
       " '\"Gambia\",\"GMB\",\"África al sur del Sahara (excluido altos ingresos)\",\"Países de ingreso bajo\",\\n',\n",
       " '\"Guinea-Bissau\",\"GNB\",\"África al sur del Sahara (excluido altos ingresos)\",\"Países de ingreso bajo\",\\n',\n",
       " '\"Guinea Ecuatorial\",\"GNQ\",\"África al sur del Sahara (excluido altos ingresos)\",\"Ingreso mediano alto\",\\n',\n",
       " '\"Grecia\",\"GRC\",\"\",\"Ingreso alto\",\\n',\n",
       " '\"Granada\",\"GRD\",\"América Latina y el Caribe (excluido altos ingresos)\",\"Ingreso mediano alto\",\\n',\n",
       " '\"Groenlandia\",\"GRL\",\"\",\"Ingreso alto\",\\n',\n",
       " '\"Guatemala\",\"GTM\",\"América Latina y el Caribe (excluido altos ingresos)\",\"Ingreso mediano alto\",\\n',\n",
       " '\"Guam\",\"GUM\",\"\",\"Ingreso alto\",\\n',\n",
       " '\"Guyana\",\"GUY\",\"América Latina y el Caribe (excluido altos ingresos)\",\"Ingreso mediano alto\",\\n',\n",
       " '\"Ingreso alto\",\"HIC\",\"\",\"Agregados\",\\n',\n",
       " '\"Hong Kong, Región Administrativa Especial\",\"HKG\",\"\",\"Ingreso alto\",\\n',\n",
       " '\"Honduras\",\"HND\",\"América Latina y el Caribe (excluido altos ingresos)\",\"Países de ingreso mediano bajo\",\\n',\n",
       " '\"Países pobres muy endeudados (PPME)\",\"HPC\",\"\",\"Agregados\",\\n',\n",
       " '\"Croacia\",\"HRV\",\"\",\"Ingreso alto\",\\n',\n",
       " '\"Haití\",\"HTI\",\"América Latina y el Caribe (excluido altos ingresos)\",\"Países de ingreso bajo\",\\n',\n",
       " '\"Hungría\",\"HUN\",\"\",\"Ingreso alto\",\\n',\n",
       " '\"Sólo BIRF\",\"IBD\",\"\",\"Agregados\",\\n',\n",
       " '\"BIRF y la AIF\",\"IBT\",\"\",\"Agregados\",\\n',\n",
       " '\"total de la AIF\",\"IDA\",\"\",\"Agregados\",\\n',\n",
       " '\"mezcla de la AIF\",\"IDB\",\"\",\"Agregados\",\\n',\n",
       " '\"Indonesia\",\"IDN\",\"Asia oriental y el Pacífico (excluido altos ingresos)\",\"Países de ingreso mediano bajo\",\\n',\n",
       " '\"Sólo AIF\",\"IDX\",\"\",\"Agregados\",\\n',\n",
       " '\"Isla de Man\",\"IMN\",\"\",\"Ingreso alto\",\\n',\n",
       " '\"India\",\"IND\",\"Asia meridional\",\"Países de ingreso mediano bajo\",\\n',\n",
       " '\"No clasificado\",\"INX\",\"\",\"Agregados\",\\n',\n",
       " '\"Irlanda\",\"IRL\",\"\",\"Ingreso alto\",\\n',\n",
       " '\"Irán, República Islámica del\",\"IRN\",\"Oriente Medio y Norte de África (excluido altos ingresos)\",\"Ingreso mediano alto\",\\n',\n",
       " '\"Iraq\",\"IRQ\",\"Oriente Medio y Norte de África (excluido altos ingresos)\",\"Ingreso mediano alto\",\\n',\n",
       " '\"Islandia\",\"ISL\",\"\",\"Ingreso alto\",\\n',\n",
       " '\"Israel\",\"ISR\",\"\",\"Ingreso alto\",\\n',\n",
       " '\"Italia\",\"ITA\",\"\",\"Ingreso alto\",\\n',\n",
       " '\"Jamaica\",\"JAM\",\"América Latina y el Caribe (excluido altos ingresos)\",\"Ingreso mediano alto\",\\n',\n",
       " '\"Jordania\",\"JOR\",\"Oriente Medio y Norte de África (excluido altos ingresos)\",\"Ingreso mediano alto\",\\n',\n",
       " '\"Japón\",\"JPN\",\"\",\"Ingreso alto\",\\n',\n",
       " '\"Kazajstán\",\"KAZ\",\"Europa y Asia central (excluido altos ingresos)\",\"Ingreso mediano alto\",\\n',\n",
       " '\"Kenya\",\"KEN\",\"África al sur del Sahara (excluido altos ingresos)\",\"Países de ingreso mediano bajo\",\\n',\n",
       " '\"Kirguistán\",\"KGZ\",\"Europa y Asia central (excluido altos ingresos)\",\"Países de ingreso mediano bajo\",\\n',\n",
       " '\"Camboya\",\"KHM\",\"Asia oriental y el Pacífico (excluido altos ingresos)\",\"Países de ingreso mediano bajo\",\\n',\n",
       " '\"Kiribati\",\"KIR\",\"Asia oriental y el Pacífico (excluido altos ingresos)\",\"Países de ingreso mediano bajo\",\\n',\n",
       " '\"Saint Kitts y Nevis\",\"KNA\",\"\",\"Ingreso alto\",\\n',\n",
       " '\"Corea, República de\",\"KOR\",\"\",\"Ingreso alto\",\\n',\n",
       " '\"Kuwait\",\"KWT\",\"\",\"Ingreso alto\",\\n',\n",
       " '\"América Latina y el Caribe (excluido altos ingresos)\",\"LAC\",\"\",\"Agregados\",\\n',\n",
       " '\"República Democrática Popular Lao\",\"LAO\",\"Asia oriental y el Pacífico (excluido altos ingresos)\",\"Países de ingreso mediano bajo\",\\n',\n",
       " '\"Líbano\",\"LBN\",\"Oriente Medio y Norte de África (excluido altos ingresos)\",\"Ingreso mediano alto\",\\n',\n",
       " '\"Liberia\",\"LBR\",\"África al sur del Sahara (excluido altos ingresos)\",\"Países de ingreso bajo\",\\n',\n",
       " '\"Libia\",\"LBY\",\"Oriente Medio y Norte de África (excluido altos ingresos)\",\"Ingreso mediano alto\",\\n',\n",
       " '\"Santa Lucía\",\"LCA\",\"América Latina y el Caribe (excluido altos ingresos)\",\"Ingreso mediano alto\",\\n',\n",
       " '\"América Latina y el Caribe \",\"LCN\",\"\",\"Agregados\",\\n',\n",
       " '\"Países menos desarrollados: clasificación de las Naciones Unidas\",\"LDC\",\"\",\"Agregados\",\\n',\n",
       " '\"Países de ingreso bajo\",\"LIC\",\"\",\"Agregados\",\\n',\n",
       " '\"Liechtenstein\",\"LIE\",\"\",\"Ingreso alto\",\\n',\n",
       " '\"Sri Lanka\",\"LKA\",\"Asia meridional\",\"Ingreso mediano alto\",\\n',\n",
       " '\"Países de ingreso mediano bajo\",\"LMC\",\"\",\"Agregados\",\\n',\n",
       " '\"Ingreso mediano y bajo\",\"LMY\",\"\",\"Agregados\",\\n',\n",
       " '\"Lesotho\",\"LSO\",\"África al sur del Sahara (excluido altos ingresos)\",\"Países de ingreso mediano bajo\",\\n',\n",
       " '\"avanzada del dividendo demográfico\",\"LTE\",\"\",\"Agregados\",\\n',\n",
       " '\"Lituania\",\"LTU\",\"\",\"Ingreso alto\",\\n',\n",
       " '\"Luxemburgo\",\"LUX\",\"\",\"Ingreso alto\",\\n',\n",
       " '\"Letonia\",\"LVA\",\"\",\"Ingreso alto\",\\n',\n",
       " '\"Región Administrativa Especial de Macao, China\",\"MAC\",\"\",\"Ingreso alto\",\\n',\n",
       " '\"Isla de San Martín (parte francesa)\",\"MAF\",\"\",\"Ingreso alto\",\\n',\n",
       " '\"Marruecos\",\"MAR\",\"Oriente Medio y Norte de África (excluido altos ingresos)\",\"Países de ingreso mediano bajo\",\\n',\n",
       " '\"Mónaco\",\"MCO\",\"\",\"Ingreso alto\",\\n',\n",
       " '\"República de Moldova\",\"MDA\",\"Europa y Asia central (excluido altos ingresos)\",\"Países de ingreso mediano bajo\",\\n',\n",
       " '\"Madagascar\",\"MDG\",\"África al sur del Sahara (excluido altos ingresos)\",\"Países de ingreso bajo\",\\n',\n",
       " '\"Maldivas\",\"MDV\",\"Asia meridional\",\"Ingreso mediano alto\",\\n',\n",
       " '\"Oriente Medio y Norte de África\",\"MEA\",\"\",\"Agregados\",\\n',\n",
       " '\"México\",\"MEX\",\"América Latina y el Caribe (excluido altos ingresos)\",\"Ingreso mediano alto\",\\n',\n",
       " '\"Islas Marshall\",\"MHL\",\"Asia oriental y el Pacífico (excluido altos ingresos)\",\"Ingreso mediano alto\",\\n',\n",
       " '\" Ingreso mediano\",\"MIC\",\"\",\"Agregados\",\\n',\n",
       " '\"Macedonia del Norte\",\"MKD\",\"Europa y Asia central (excluido altos ingresos)\",\"Ingreso mediano alto\",\\n',\n",
       " '\"Malí\",\"MLI\",\"África al sur del Sahara (excluido altos ingresos)\",\"Países de ingreso bajo\",\\n',\n",
       " '\"Malta\",\"MLT\",\"\",\"Ingreso alto\",\\n',\n",
       " '\"Myanmar\",\"MMR\",\"Asia oriental y el Pacífico (excluido altos ingresos)\",\"Países de ingreso mediano bajo\",\\n',\n",
       " '\"Oriente Medio y Norte de África (excluido altos ingresos)\",\"MNA\",\"\",\"Agregados\",\\n',\n",
       " '\"Montenegro\",\"MNE\",\"Europa y Asia central (excluido altos ingresos)\",\"Ingreso mediano alto\",\\n',\n",
       " '\"Mongolia\",\"MNG\",\"Asia oriental y el Pacífico (excluido altos ingresos)\",\"Países de ingreso mediano bajo\",\\n',\n",
       " '\"Mariana\",\"MNP\",\"\",\"Ingreso alto\",\\n',\n",
       " '\"Mozambique\",\"MOZ\",\"África al sur del Sahara (excluido altos ingresos)\",\"Países de ingreso bajo\",\\n',\n",
       " '\"Mauritania\",\"MRT\",\"África al sur del Sahara (excluido altos ingresos)\",\"Países de ingreso mediano bajo\",\\n',\n",
       " '\"Mauricio\",\"MUS\",\"África al sur del Sahara (excluido altos ingresos)\",\"Ingreso mediano alto\",\\n',\n",
       " '\"Malawi\",\"MWI\",\"África al sur del Sahara (excluido altos ingresos)\",\"Países de ingreso bajo\",\\n',\n",
       " '\"Malasia\",\"MYS\",\"Asia oriental y el Pacífico (excluido altos ingresos)\",\"Ingreso mediano alto\",\\n',\n",
       " '\"América del Norte\",\"NAC\",\"\",\"Agregados\",\\n',\n",
       " '\"Namibia\",\"NAM\",\"África al sur del Sahara (excluido altos ingresos)\",\"Ingreso mediano alto\",\\n',\n",
       " '\"Nueva Caledonia\",\"NCL\",\"\",\"Ingreso alto\",\\n',\n",
       " '\"Níger\",\"NER\",\"África al sur del Sahara (excluido altos ingresos)\",\"Países de ingreso bajo\",\\n',\n",
       " '\"Nigeria\",\"NGA\",\"África al sur del Sahara (excluido altos ingresos)\",\"Países de ingreso mediano bajo\",\\n',\n",
       " '\"Nicaragua\",\"NIC\",\"América Latina y el Caribe (excluido altos ingresos)\",\"Países de ingreso mediano bajo\",\\n',\n",
       " '\"Países Bajos\",\"NLD\",\"\",\"Ingreso alto\",\\n',\n",
       " '\"Noruega\",\"NOR\",\"\",\"Ingreso alto\",\\n',\n",
       " '\"Nepal\",\"NPL\",\"Asia meridional\",\"Países de ingreso bajo\",\\n',\n",
       " '\"Nauru\",\"NRU\",\"Asia oriental y el Pacífico (excluido altos ingresos)\",\"Ingreso mediano alto\",\\n',\n",
       " '\"Nueva Zelandia\",\"NZL\",\"\",\"Ingreso alto\",\\n',\n",
       " '\"Miembros OCDE\",\"OED\",\"\",\"Agregados\",\\n',\n",
       " '\"Omán\",\"OMN\",\"\",\"Ingreso alto\",\\n',\n",
       " '\"Otros Estados pequeos\",\"OSS\",\"\",\"Agregados\",\\n',\n",
       " '\"Pakistán\",\"PAK\",\"Asia meridional\",\"Países de ingreso mediano bajo\",\\n',\n",
       " '\"Panamá\",\"PAN\",\"\",\"Ingreso alto\",\\n',\n",
       " '\"Perú\",\"PER\",\"América Latina y el Caribe (excluido altos ingresos)\",\"Ingreso mediano alto\",\\n',\n",
       " '\"Filipinas\",\"PHL\",\"Asia oriental y el Pacífico (excluido altos ingresos)\",\"Países de ingreso mediano bajo\",\\n',\n",
       " '\"Palau\",\"PLW\",\"\",\"Ingreso alto\",\\n',\n",
       " '\"Papua Nueva Guinea\",\"PNG\",\"Asia oriental y el Pacífico (excluido altos ingresos)\",\"Países de ingreso mediano bajo\",\\n',\n",
       " '\"Polonia\",\"POL\",\"\",\"Ingreso alto\",\\n',\n",
       " '\"previa al dividendo demográfico\",\"PRE\",\"\",\"Agregados\",\\n',\n",
       " '\"Puerto Rico\",\"PRI\",\"\",\"Ingreso alto\",\\n',\n",
       " '\"Corea, República Popular Democrática de\",\"PRK\",\"Asia oriental y el Pacífico (excluido altos ingresos)\",\"Países de ingreso bajo\",\\n',\n",
       " '\"Portugal\",\"PRT\",\"\",\"Ingreso alto\",\\n',\n",
       " '\"Paraguay\",\"PRY\",\"América Latina y el Caribe (excluido altos ingresos)\",\"Ingreso mediano alto\",\\n',\n",
       " '\"Ribera Occidental y Gaza\",\"PSE\",\"Oriente Medio y Norte de África (excluido altos ingresos)\",\"Países de ingreso mediano bajo\",\\n',\n",
       " '\"Estados pequeos de las Islas del Pacfico\",\"PSS\",\"\",\"Agregados\",\\n',\n",
       " '\"posterior al dividendo demográfico\",\"PST\",\"\",\"Agregados\",\\n',\n",
       " '\"Polinesia Francesa\",\"PYF\",\"\",\"Ingreso alto\",\\n',\n",
       " '\"Qatar\",\"QAT\",\"\",\"Ingreso alto\",\\n',\n",
       " '\"Rumania\",\"ROU\",\"Europa y Asia central (excluido altos ingresos)\",\"Ingreso mediano alto\",\\n',\n",
       " '\"Federación de Rusia\",\"RUS\",\"Europa y Asia central (excluido altos ingresos)\",\"Ingreso mediano alto\",\\n',\n",
       " '\"Rwanda\",\"RWA\",\"África al sur del Sahara (excluido altos ingresos)\",\"Países de ingreso bajo\",\\n',\n",
       " '\"Asia meridional\",\"SAS\",\"\",\"Agregados\",\\n',\n",
       " '\"Arabia Saudita\",\"SAU\",\"\",\"Ingreso alto\",\\n',\n",
       " '\"Sudán\",\"SDN\",\"África al sur del Sahara (excluido altos ingresos)\",\"Países de ingreso mediano bajo\",\\n',\n",
       " '\"Senegal\",\"SEN\",\"África al sur del Sahara (excluido altos ingresos)\",\"Países de ingreso mediano bajo\",\\n',\n",
       " '\"Singapur\",\"SGP\",\"\",\"Ingreso alto\",\\n',\n",
       " '\"Islas Salomón\",\"SLB\",\"Asia oriental y el Pacífico (excluido altos ingresos)\",\"Países de ingreso mediano bajo\",\\n',\n",
       " '\"Sierra Leona\",\"SLE\",\"África al sur del Sahara (excluido altos ingresos)\",\"Países de ingreso bajo\",\\n',\n",
       " '\"El Salvador\",\"SLV\",\"América Latina y el Caribe (excluido altos ingresos)\",\"Países de ingreso mediano bajo\",\\n',\n",
       " '\"San Marino\",\"SMR\",\"\",\"Ingreso alto\",\\n',\n",
       " '\"Somalia\",\"SOM\",\"África al sur del Sahara (excluido altos ingresos)\",\"Países de ingreso bajo\",\\n',\n",
       " '\"Serbia\",\"SRB\",\"Europa y Asia central (excluido altos ingresos)\",\"Ingreso mediano alto\",\\n',\n",
       " '\"África al sur del Sahara (excluido altos ingresos)\",\"SSA\",\"\",\"Agregados\",\\n',\n",
       " '\"Sudán del Sur\",\"SSD\",\"África al sur del Sahara (excluido altos ingresos)\",\"Países de ingreso bajo\",\\n',\n",
       " '\"África al sur del Sahara\",\"SSF\",\"\",\"Agregados\",\\n',\n",
       " '\"Pequeños Estados\",\"SST\",\"\",\"Agregados\",\\n',\n",
       " '\"Santo Tomé y Príncipe\",\"STP\",\"África al sur del Sahara (excluido altos ingresos)\",\"Países de ingreso mediano bajo\",\\n',\n",
       " '\"Suriname\",\"SUR\",\"América Latina y el Caribe (excluido altos ingresos)\",\"Ingreso mediano alto\",\\n',\n",
       " '\"República Eslovaca\",\"SVK\",\"\",\"Ingreso alto\",\\n',\n",
       " '\"Eslovenia\",\"SVN\",\"\",\"Ingreso alto\",\\n',\n",
       " '\"Suecia\",\"SWE\",\"\",\"Ingreso alto\",\\n',\n",
       " '\"Eswatini\",\"SWZ\",\"África al sur del Sahara (excluido altos ingresos)\",\"Países de ingreso mediano bajo\",\\n',\n",
       " '\"Sint Maarten (Dutch part)\",\"SXM\",\"\",\"Ingreso alto\",\\n',\n",
       " '\"Seychelles\",\"SYC\",\"\",\"Ingreso alto\",\\n',\n",
       " '\"República Árabe Siria\",\"SYR\",\"Oriente Medio y Norte de África (excluido altos ingresos)\",\"Países de ingreso bajo\",\\n',\n",
       " '\"Islas Turcas y Caicos\",\"TCA\",\"\",\"Ingreso alto\",\\n',\n",
       " '\"Chad\",\"TCD\",\"África al sur del Sahara (excluido altos ingresos)\",\"Países de ingreso bajo\",\\n',\n",
       " '\"Asia oriental y el Pacífico (BIRF y la AIF)\",\"TEA\",\"\",\"Agregados\",\\n',\n",
       " '\"Europa y Asia central (BIRF y la AIF)\",\"TEC\",\"\",\"Agregados\",\\n',\n",
       " '\"Togo\",\"TGO\",\"África al sur del Sahara (excluido altos ingresos)\",\"Países de ingreso bajo\",\\n',\n",
       " '\"Tailandia\",\"THA\",\"Asia oriental y el Pacífico (excluido altos ingresos)\",\"Ingreso mediano alto\",\\n',\n",
       " '\"Tayikistán\",\"TJK\",\"Europa y Asia central (excluido altos ingresos)\",\"Países de ingreso bajo\",\\n',\n",
       " '\"Turkmenistán\",\"TKM\",\"Europa y Asia central (excluido altos ingresos)\",\"Ingreso mediano alto\",\\n',\n",
       " '\"América Latina y el Caribe (BIRF y la AIF)\",\"TLA\",\"\",\"Agregados\",\\n',\n",
       " '\"Timor-Leste\",\"TLS\",\"Asia oriental y el Pacífico (excluido altos ingresos)\",\"Países de ingreso mediano bajo\",\\n',\n",
       " '\"Oriente Medio y Norte de África (BIRF y la AIF)\",\"TMN\",\"\",\"Agregados\",\\n',\n",
       " '\"Tonga\",\"TON\",\"Asia oriental y el Pacífico (excluido altos ingresos)\",\"Ingreso mediano alto\",\\n',\n",
       " '\"Asia meridional (BIRF y la AIF)\",\"TSA\",\"\",\"Agregados\",\\n',\n",
       " '\"África al sur del Sahara (BIRF y la AIF)\",\"TSS\",\"\",\"Agregados\",\\n',\n",
       " '\"Trinidad y Tobago\",\"TTO\",\"\",\"Ingreso alto\",\\n',\n",
       " '\"Túnez\",\"TUN\",\"Oriente Medio y Norte de África (excluido altos ingresos)\",\"Países de ingreso mediano bajo\",\\n',\n",
       " '\"Turquía\",\"TUR\",\"Europa y Asia central (excluido altos ingresos)\",\"Ingreso mediano alto\",\\n',\n",
       " '\"Tuvalu\",\"TUV\",\"Asia oriental y el Pacífico (excluido altos ingresos)\",\"Ingreso mediano alto\",\\n',\n",
       " '\"Tanzanía\",\"TZA\",\"África al sur del Sahara (excluido altos ingresos)\",\"Países de ingreso bajo\",\\n',\n",
       " '\"Uganda\",\"UGA\",\"África al sur del Sahara (excluido altos ingresos)\",\"Países de ingreso bajo\",\\n',\n",
       " '\"Ucrania\",\"UKR\",\"Europa y Asia central (excluido altos ingresos)\",\"Países de ingreso mediano bajo\",\\n',\n",
       " '\"Ingreso mediano alto\",\"UMC\",\"\",\"Agregados\",\\n',\n",
       " '\"Uruguay\",\"URY\",\"\",\"Ingreso alto\",\\n',\n",
       " '\"Estados Unidos\",\"USA\",\"\",\"Ingreso alto\",\\n',\n",
       " '\"Uzbekistán\",\"UZB\",\"Europa y Asia central (excluido altos ingresos)\",\"Países de ingreso mediano bajo\",\\n',\n",
       " '\"San Vicente y las Granadinas\",\"VCT\",\"América Latina y el Caribe (excluido altos ingresos)\",\"Ingreso mediano alto\",\\n',\n",
       " '\"Venezuela\",\"VEN\",\"América Latina y el Caribe (excluido altos ingresos)\",\"Ingreso mediano alto\",\\n',\n",
       " '\"Islas Vírgenes Británicas\",\"VGB\",\"\",\"Ingreso alto\",\\n',\n",
       " '\"Islas Vírgenes (EE.UU.)\",\"VIR\",\"\",\"Ingreso alto\",\\n',\n",
       " '\"Viet Nam\",\"VNM\",\"Asia oriental y el Pacífico (excluido altos ingresos)\",\"Países de ingreso mediano bajo\",\\n',\n",
       " '\"Vanuatu\",\"VUT\",\"Asia oriental y el Pacífico (excluido altos ingresos)\",\"Países de ingreso mediano bajo\",\\n',\n",
       " '\"Mundo\",\"WLD\",\"\",\"Agregados\",\\n',\n",
       " '\"Samoa\",\"WSM\",\"Asia oriental y el Pacífico (excluido altos ingresos)\",\"Ingreso mediano alto\",\\n',\n",
       " '\"Kosovo\",\"XKX\",\"Europa y Asia central (excluido altos ingresos)\",\"Ingreso mediano alto\",\\n',\n",
       " '\"Yemen, Rep. del\",\"YEM\",\"Oriente Medio y Norte de África (excluido altos ingresos)\",\"Países de ingreso bajo\",\\n',\n",
       " '\"Sudáfrica\",\"ZAF\",\"África al sur del Sahara (excluido altos ingresos)\",\"Ingreso mediano alto\",\\n',\n",
       " '\"Zambia\",\"ZMB\",\"África al sur del Sahara (excluido altos ingresos)\",\"Países de ingreso mediano bajo\",\\n',\n",
       " '\"Zimbabwe\",\"ZWE\",\"África al sur del Sahara (excluido altos ingresos)\",\"Países de ingreso mediano bajo\",\\n']"
      ]
     },
     "execution_count": 122,
     "metadata": {},
     "output_type": "execute_result"
    }
   ],
   "source": [
    "archivoPoblacion = open(\"Metadata_Country_API_SP.POP.TOTL_DS2_es_csv_v2_44124.csv\")\n",
    "poblacion = list(archivoPoblacion)\n",
    "poblacion"
   ]
  },
  {
   "cell_type": "code",
   "execution_count": 4,
   "metadata": {},
   "outputs": [
    {
     "data": {
      "text/plain": [
       "[None,\n",
       " None,\n",
       " None,\n",
       " None,\n",
       " None,\n",
       " None,\n",
       " None,\n",
       " None,\n",
       " None,\n",
       " None,\n",
       " None,\n",
       " None,\n",
       " None,\n",
       " None,\n",
       " None,\n",
       " None,\n",
       " None,\n",
       " None]"
      ]
     },
     "execution_count": 4,
     "metadata": {},
     "output_type": "execute_result"
    },
    {
     "data": {
      "image/png": "[encoded data removed]",
      "text/plain": [
       "<Figure size 432x288 with 1 Axes>"
      ]
     },
     "metadata": {
      "needs_background": "light"
     },
     "output_type": "display_data"
    }
   ],
   "source": [
    "archivoPoblacion = open(\"Metadata_Country_API_SP.POP.TOTL_DS2_es_csv_v2_44124.csv\",encoding=\"UTF8\")\n",
    "poblacion = archivoPoblacion.readlines()\n",
    "poblacion = poblacion[1:]\n",
    "ingresos = []\n",
    "for registro in poblacion:\n",
    "    separado = registro.split(\",\")\n",
    "    if len(separado)>3:\n",
    "        ingresos.append(separado[3])\n",
    "\n",
    "#for tipo in ingresos:\n",
    "#    print(tipo)\n",
    "plt.hist(ingresos)\n",
    "plt.setp(plt.gca().get_xticklabels(), rotation=45, horizontalalignment='right')"
   ]
  },
  {
   "cell_type": "code",
   "execution_count": null,
   "metadata": {},
   "outputs": [],
   "source": []
  }
 ],
 "metadata": {
  "kernelspec": {
   "display_name": "Python 3",
   "language": "python",
   "name": "python3"
  },
  "language_info": {
   "codemirror_mode": {
    "name": "ipython",
    "version": 3
   },
   "file_extension": ".py",
   "mimetype": "text/x-python",
   "name": "python",
   "nbconvert_exporter": "python",
   "pygments_lexer": "ipython3",
   "version": "3.7.3"
  }
 },
 "nbformat": 4,
 "nbformat_minor": 2
}
