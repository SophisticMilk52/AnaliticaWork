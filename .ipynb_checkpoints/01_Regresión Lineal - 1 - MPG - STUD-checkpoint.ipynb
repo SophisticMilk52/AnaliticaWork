{
 "cells": [
  {
   "cell_type": "markdown",
   "metadata": {},
   "source": [
    "# Regresión lineal"
   ]
  },
  {
   "cell_type": "markdown",
   "metadata": {},
   "source": [
    "Importamos las librerías que vamos a utilizar"
   ]
  },
  {
   "cell_type": "code",
   "execution_count": 1,
   "metadata": {},
   "outputs": [],
   "source": [
    "import numpy as np #operaciones matriciales y con vectores\n",
    "import pandas as pd #tratamiento de datos\n",
    "import matplotlib.pyplot as plt #gráficos\n",
    "from sklearn import datasets, linear_model #datasets y modelos de aprendizaje automático (ML)\n",
    "from sklearn.model_selection import train_test_split #metodo de particionamiento de datasets para evaluación\n",
    "from sklearn.metrics import mean_squared_error, r2_score\n",
    "import seaborn as sns\n",
    "\n",
    "from scipy import stats #para poder hacer cálculos científicos --> valores p\n",
    "import statsmodels.api as sm"
   ]
  },
  {
   "cell_type": "markdown",
   "metadata": {},
   "source": [
    "## Preparación de los datos"
   ]
  },
  {
   "cell_type": "markdown",
   "metadata": {},
   "source": [
    "Vamos a cargar en un **dataframe** de ***pandas*** un dataset muy utilizado para explicar conceptos de aprendizaje del repositorio de Machine Learning alojado en la Universidad De California en Irvine (UCI), que contiene información acerca de automóviles y su rendimiento en millas por galón (MPG)."
   ]
  },
  {
   "cell_type": "code",
   "execution_count": 2,
   "metadata": {},
   "outputs": [
    {
     "name": "stdout",
     "output_type": "stream",
     "text": [
      "(406, 9)\n"
     ]
    },
    {
     "data": {
      "text/html": [
       "<div>\n",
       "<style scoped>\n",
       "    .dataframe tbody tr th:only-of-type {\n",
       "        vertical-align: middle;\n",
       "    }\n",
       "\n",
       "    .dataframe tbody tr th {\n",
       "        vertical-align: top;\n",
       "    }\n",
       "\n",
       "    .dataframe thead th {\n",
       "        text-align: right;\n",
       "    }\n",
       "</style>\n",
       "<table border=\"1\" class=\"dataframe\">\n",
       "  <thead>\n",
       "    <tr style=\"text-align: right;\">\n",
       "      <th></th>\n",
       "      <th>mpg</th>\n",
       "      <th>cylinders</th>\n",
       "      <th>displacement</th>\n",
       "      <th>horsepower</th>\n",
       "      <th>weight</th>\n",
       "      <th>acceleration</th>\n",
       "      <th>model</th>\n",
       "      <th>origin</th>\n",
       "      <th>car_name</th>\n",
       "    </tr>\n",
       "  </thead>\n",
       "  <tbody>\n",
       "    <tr>\n",
       "      <th>0</th>\n",
       "      <td>18.0</td>\n",
       "      <td>8.0</td>\n",
       "      <td>307.0</td>\n",
       "      <td>130.0</td>\n",
       "      <td>3504.0</td>\n",
       "      <td>12.0</td>\n",
       "      <td>70.0</td>\n",
       "      <td>1.0</td>\n",
       "      <td>chevrolet chevelle malibu</td>\n",
       "    </tr>\n",
       "    <tr>\n",
       "      <th>1</th>\n",
       "      <td>15.0</td>\n",
       "      <td>8.0</td>\n",
       "      <td>350.0</td>\n",
       "      <td>165.0</td>\n",
       "      <td>3693.0</td>\n",
       "      <td>11.5</td>\n",
       "      <td>70.0</td>\n",
       "      <td>1.0</td>\n",
       "      <td>buick skylark 320</td>\n",
       "    </tr>\n",
       "    <tr>\n",
       "      <th>2</th>\n",
       "      <td>18.0</td>\n",
       "      <td>8.0</td>\n",
       "      <td>318.0</td>\n",
       "      <td>150.0</td>\n",
       "      <td>3436.0</td>\n",
       "      <td>11.0</td>\n",
       "      <td>70.0</td>\n",
       "      <td>1.0</td>\n",
       "      <td>plymouth satellite</td>\n",
       "    </tr>\n",
       "    <tr>\n",
       "      <th>3</th>\n",
       "      <td>16.0</td>\n",
       "      <td>8.0</td>\n",
       "      <td>304.0</td>\n",
       "      <td>150.0</td>\n",
       "      <td>3433.0</td>\n",
       "      <td>12.0</td>\n",
       "      <td>70.0</td>\n",
       "      <td>1.0</td>\n",
       "      <td>amc rebel sst</td>\n",
       "    </tr>\n",
       "    <tr>\n",
       "      <th>4</th>\n",
       "      <td>17.0</td>\n",
       "      <td>8.0</td>\n",
       "      <td>302.0</td>\n",
       "      <td>140.0</td>\n",
       "      <td>3449.0</td>\n",
       "      <td>10.5</td>\n",
       "      <td>70.0</td>\n",
       "      <td>1.0</td>\n",
       "      <td>ford torino</td>\n",
       "    </tr>\n",
       "  </tbody>\n",
       "</table>\n",
       "</div>"
      ],
      "text/plain": [
       "    mpg  cylinders  displacement  horsepower  weight  acceleration  model  \\\n",
       "0  18.0        8.0         307.0       130.0  3504.0          12.0   70.0   \n",
       "1  15.0        8.0         350.0       165.0  3693.0          11.5   70.0   \n",
       "2  18.0        8.0         318.0       150.0  3436.0          11.0   70.0   \n",
       "3  16.0        8.0         304.0       150.0  3433.0          12.0   70.0   \n",
       "4  17.0        8.0         302.0       140.0  3449.0          10.5   70.0   \n",
       "\n",
       "   origin                   car_name  \n",
       "0     1.0  chevrolet chevelle malibu  \n",
       "1     1.0          buick skylark 320  \n",
       "2     1.0         plymouth satellite  \n",
       "3     1.0              amc rebel sst  \n",
       "4     1.0                ford torino  "
      ]
     },
     "execution_count": 2,
     "metadata": {},
     "output_type": "execute_result"
    }
   ],
   "source": [
    "data = pd.read_csv(\"http://archive.ics.uci.edu/ml/machine-learning-databases/auto-mpg/auto-mpg.data-original\",\n",
    "                   delim_whitespace = True, header=None,\n",
    "                   names = ['mpg', 'cylinders', 'displacement', 'horsepower', 'weight', 'acceleration',\n",
    "                            'model', 'origin', 'car_name'])\n",
    "print(data.shape)\n",
    "data.head()"
   ]
  },
  {
   "cell_type": "markdown",
   "metadata": {},
   "source": [
    "Hay 406 registros con 9 variables.\n",
    "Vamos a analizar si hay problemas de datos con respecto a valores faltantes y outliers"
   ]
  },
  {
   "cell_type": "code",
   "execution_count": null,
   "metadata": {},
   "outputs": [],
   "source": [
    "data.describe().transpose()"
   ]
  },
  {
   "cell_type": "markdown",
   "metadata": {},
   "source": [
    "Al parecer a primera vista no hay outliers, pero si hay valores faltantes (columna count no es de 406 para todas las variables).\n",
    "\n",
    "Además podemos ver que las escalas de las variables son bastante disparejas, con los valores de peso que van de 1600 a 5100, y los de los cilindros de 3 a 8. Es necesario reescalar los datos para otorgarle la misma importancia a cada variable dentro del modelo."
   ]
  },
  {
   "cell_type": "markdown",
   "metadata": {},
   "source": [
    "### Vamos a ver que variables tienen valores faltantes"
   ]
  },
  {
   "cell_type": "code",
   "execution_count": null,
   "metadata": {},
   "outputs": [],
   "source": [
    "data.info()"
   ]
  },
  {
   "cell_type": "code",
   "execution_count": null,
   "metadata": {},
   "outputs": [],
   "source": [
    "print(pd.isnull(data).any(0)) #el 0 implica cualquier columna, si quisieramos las filas utilizamos 1\n",
    "print(\"Las columnas que tienen valores faltantes son: \",pd.isnull(data).any(0).to_numpy().nonzero()[0])\n",
    "print(\"y corresponden a: \", data.columns[pd.isnull(data).any(0).to_numpy().nonzero()[0]])"
   ]
  },
  {
   "cell_type": "markdown",
   "metadata": {},
   "source": [
    "Tanto mpg como horsepower tienen valores faltantes, pero no son muchos.\n",
    "Hay al menos 8 registros con valores faltantes.\n",
    "\n",
    "Podemos encontrar los índices de las filas con los valores faltantes y eliminarlos del dataset.\n",
    "También podemos directamente eliminarlos con un comando de pandas.\n",
    "Vamos a hacer las dos operaciones.\n",
    "\n",
    "Encontramos entonces los índices con registros incompletos."
   ]
  },
  {
   "cell_type": "code",
   "execution_count": null,
   "metadata": {},
   "outputs": [],
   "source": [
    "indices = pd.isnull(data).any(1).to_numpy().nonzero()[0]\n",
    "print(\"Hay {} registros incompletos: \".format(len(indices)), indices)"
   ]
  },
  {
   "cell_type": "code",
   "execution_count": null,
   "metadata": {},
   "outputs": [],
   "source": [
    "data2 = data.drop(indices)\n",
    "print(\"Datos originales: \", data.shape)\n",
    "print(\"Datos limpios y completos: \", data2.shape)\n",
    "print(\"Se eliminaron {} registos\".format(data.shape[0] - data2.shape[0]))"
   ]
  },
  {
   "cell_type": "markdown",
   "metadata": {},
   "source": [
    "También lo podemos hacer directamente con **dropna**"
   ]
  },
  {
   "cell_type": "code",
   "execution_count": null,
   "metadata": {},
   "outputs": [],
   "source": [
    "data2 = data.dropna()\n",
    "print(\"Datos originales: \", data.shape)\n",
    "print(\"Datos limpios y completos: \", data2.shape)\n",
    "print(\"Se eliminaron {} registos\".format(data.shape[0] - data2.shape[0]))"
   ]
  },
  {
   "cell_type": "code",
   "execution_count": null,
   "metadata": {},
   "outputs": [],
   "source": [
    "data = data2"
   ]
  },
  {
   "cell_type": "markdown",
   "metadata": {},
   "source": [
    "## Aprendizaje del modelo de regresión"
   ]
  },
  {
   "cell_type": "markdown",
   "metadata": {},
   "source": [
    "Vamos a ignorar por ahora el hecho de que las variables no siguen la misma escala. Más adelante nos ocuparemos de ese problema."
   ]
  },
  {
   "cell_type": "markdown",
   "metadata": {},
   "source": [
    "Vamos a crear un modelo de regresión lineal que permita obtener *mpg* a partir de algunas (5 de ellas) de las demás variables independientes del dataset"
   ]
  },
  {
   "cell_type": "code",
   "execution_count": null,
   "metadata": {},
   "outputs": [],
   "source": [
    "indep_vars = ['cylinders', 'displacement', 'horsepower', 'weight', 'acceleration']\n",
    "dep_vars = ['mpg']"
   ]
  },
  {
   "cell_type": "code",
   "execution_count": null,
   "metadata": {},
   "outputs": [],
   "source": [
    "indep_data = data[indep_vars]\n",
    "dep_data = data[dep_vars]"
   ]
  },
  {
   "cell_type": "markdown",
   "metadata": {},
   "source": [
    "Tenemos un dataframe con los datos de las variables independientes y otro con los de la variable dependiente.\n",
    "\n",
    "Vamos ahora a partir cada dataframe en 2 de manera aleatoria: 67% de los datos se utilizarán para aprender el modelo, y 33 para evaluarlo."
   ]
  },
  {
   "cell_type": "code",
   "execution_count": null,
   "metadata": {},
   "outputs": [],
   "source": [
    "train_x, test_x, train_y, test_y = train_test_split(indep_data, dep_data, test_size=0.33, random_state=42)"
   ]
  },
  {
   "cell_type": "code",
   "execution_count": null,
   "metadata": {},
   "outputs": [],
   "source": [
    "print(train_x.shape)\n",
    "print(train_y.shape)\n",
    "print(test_x.shape)\n",
    "print(test_y.shape)"
   ]
  },
  {
   "cell_type": "markdown",
   "metadata": {},
   "source": [
    "Ya tenemos todos los datos preparados para lanzar el modelo de regresión lineal a partir de los datos de entrenamiento.\n",
    "Lanzamos el método **fit** que se encarga de encontrar la mejor línea de ajuste, y consultamos los diferentes coeficientes encontrados para las variables independientes."
   ]
  },
  {
   "cell_type": "code",
   "execution_count": null,
   "metadata": {},
   "outputs": [],
   "source": [
    "regr = linear_model.LinearRegression(normalize=True)\n",
    "regr.fit(train_x, train_y)"
   ]
  },
  {
   "cell_type": "markdown",
   "metadata": {},
   "source": [
    "Se estableció que se va a utilizar un modelo de regresión lineal, que por defecto incluye un coeficiente para la intercepción con la ordenada en el origen, y especificamos que deseamos normalizar los datos de las variables predictivas."
   ]
  },
  {
   "cell_type": "code",
   "execution_count": null,
   "metadata": {},
   "outputs": [],
   "source": [
    "for var, coef in zip(indep_vars, np.squeeze(regr.coef_)):\n",
    "    print(\"{}: {}\".format(var, coef))\n",
    "print(\"intercepción: {}\".format(np.squeeze(regr.intercept_)))"
   ]
  },
  {
   "cell_type": "markdown",
   "metadata": {},
   "source": [
    "## Predicción"
   ]
  },
  {
   "cell_type": "markdown",
   "metadata": {},
   "source": [
    "Vamos a predecir la variable dependiente ajustada según el modelo para los datos de entrenamiento y para los datos de test"
   ]
  },
  {
   "cell_type": "code",
   "execution_count": null,
   "metadata": {},
   "outputs": [],
   "source": [
    "train_y_pred = regr.predict(train_x)\n",
    "test_y_pred = regr.predict(test_x)\n",
    "print(train_y_pred.shape)\n",
    "print(test_y_pred.shape)"
   ]
  },
  {
   "cell_type": "markdown",
   "metadata": {},
   "source": [
    "Veamos como nos va con las métricas de bondad de ajuste"
   ]
  },
  {
   "cell_type": "code",
   "execution_count": null,
   "metadata": {},
   "outputs": [],
   "source": [
    "print(\"MSE (train): %.4f\" % mean_squared_error(train_y, train_y_pred))\n",
    "print(\"MSE (test) : %.4f\" % mean_squared_error(test_y, test_y_pred))\n",
    "print('R2  (train): %.4f' % r2_score(train_y, train_y_pred))\n",
    "print('R2  (test) : %.4f' % r2_score(test_y, test_y_pred))"
   ]
  },
  {
   "cell_type": "markdown",
   "metadata": {},
   "source": [
    "Encontramos que la predicción con los datos de entrenamiento nos da mejores resultados que con los datos de aprendizaje: por un lado el MSE es menor y por otro lado el R2 es mayor con el training set.\n",
    "\n",
    "Esto muestra que utilizar el mismo set de datos con el que se entrenó al modelo para evaluarlo causa una subestimación del error del modelo."
   ]
  },
  {
   "cell_type": "markdown",
   "metadata": {},
   "source": [
    "scikit-learn no ofrece el cálculo del R2 ajustado (viva Python!), por lo que lo calculamos a mano:"
   ]
  },
  {
   "cell_type": "code",
   "execution_count": null,
   "metadata": {},
   "outputs": [],
   "source": [
    "r2_aj_train = 1 - (1-r2_score(train_y, train_y_pred))*(len(train_y)-1) / (len(train_y) - train_x.shape[1] - 1)\n",
    "print('R2 adj (train): %.4f' %r2_aj_train)\n",
    "r2_aj_test = 1 - (1-r2_score(test_y, test_y_pred))*(len(test_y)-1) / (len(test_y) - test_x.shape[1] - 1)\n",
    "print('R2 adj (train): %.4f' %r2_aj_test)"
   ]
  },
  {
   "cell_type": "markdown",
   "metadata": {},
   "source": [
    "El valor del R2 ajustado corrige el valor del R2 con respecto a la complejidad dada por el número de variables independientes utilizadas, y permite comparar modelos de diferente número de predictores."
   ]
  },
  {
   "cell_type": "markdown",
   "metadata": {},
   "source": [
    "## Análisis de los coeficientes "
   ]
  },
  {
   "cell_type": "code",
   "execution_count": null,
   "metadata": {},
   "outputs": [],
   "source": [
    "indep_vars"
   ]
  },
  {
   "cell_type": "markdown",
   "metadata": {},
   "source": [
    "Para poder establecer la significancia de los coeficientes, es necesario realizar pruebas de hipótesis de los coeficientes de cada variable predictiva, comparándolos contra 0.\n",
    "\n",
    "El problema es que **scikit-learn** no realiza estas pruebas, y no incluye muchas de las métricas (como el R2 ajustado), y hay que utilizar el package **statsmodel** (viva Python!).\n"
   ]
  },
  {
   "cell_type": "markdown",
   "metadata": {},
   "source": [
    "Este proceso es bastante complicado, por lo que es a veces mejor conocer cómo obtener los valores p directamente, por lo que usamos el package **statsmodels**. Este paquete requiere adicionar una constante inicial a los datos predictores (correspondiente al valor del intercepto)."
   ]
  },
  {
   "cell_type": "code",
   "execution_count": null,
   "metadata": {},
   "outputs": [],
   "source": [
    "train_x2 = sm.add_constant(train_x)\n",
    "print(train_x2.head())"
   ]
  },
  {
   "cell_type": "code",
   "execution_count": null,
   "metadata": {},
   "outputs": [],
   "source": [
    "modeloStats = sm.OLS(train_y, train_x2)\n",
    "results = modeloStats.fit();\n",
    "#Consultamos la calidad del modelo a partir de sus estadísticas\n",
    "results.summary()"
   ]
  },
  {
   "cell_type": "markdown",
   "metadata": {},
   "source": [
    "Encontramos que los parámetros cylinders, displacement y acceleration no son para nada significativos en el modelo.\n",
    "\n",
    "También podemos ver que puede que haya problemas de multicolinearidad, como lo establece la 2a advertencia. Vamos a analizar la correlación entre las variables incluidas en el modelo."
   ]
  },
  {
   "cell_type": "code",
   "execution_count": null,
   "metadata": {},
   "outputs": [],
   "source": [
    "# Calculamos la matriz de correlaciones\n",
    "corr = train_x.join(train_y).corr()\n",
    "corr"
   ]
  },
  {
   "cell_type": "code",
   "execution_count": null,
   "metadata": {},
   "outputs": [],
   "source": [
    "## Set up the matplotlib figure\n",
    "f, ax = plt.subplots(figsize=(11, 9))\n",
    "\n",
    "# Generate a custom diverging colormap\n",
    "cmap = sns.diverging_palette(220, 10, as_cmap=True)\n",
    "\n",
    "sns.heatmap(corr, cmap=cmap, vmax=.3, center=0,\n",
    "            square=True, linewidths=.5, cbar_kws={\"shrink\": .5})"
   ]
  },
  {
   "cell_type": "markdown",
   "metadata": {},
   "source": [
    "Encontramos que *aceleration* está bastante correlacionada con las primeras cuatro variables independientes. Podríamos eliminarla y correr el modelo otra vez, pero vamos a preferir seguir un proceso más organizado de forward stepwise."
   ]
  },
  {
   "cell_type": "markdown",
   "metadata": {},
   "source": [
    "## Escogencia de variables usando forward stepwise"
   ]
  },
  {
   "cell_type": "markdown",
   "metadata": {},
   "source": [
    "Empezamos por escoger como primera variable *weight*, pues es la que tiene la correlación más importante con *mpg*."
   ]
  },
  {
   "cell_type": "code",
   "execution_count": null,
   "metadata": {},
   "outputs": [],
   "source": [
    "train_x2 = train_x[['weight']]\n",
    "train_x2 = sm.add_constant(train_x2)\n",
    "modeloStats = sm.OLS(train_y, train_x2)\n",
    "results = modeloStats.fit();\n",
    "print(results.rsquared_adj)"
   ]
  },
  {
   "cell_type": "markdown",
   "metadata": {},
   "source": [
    "Partimos entonces de un modelo que solo incluyendo la variable *weight* obtiene un R2 ajustado de 0.703. Vamos a continuar la búsqueda del mejor modelo siguiendo el heurístico de forward stepwise.\n",
    "\n",
    "**<span style=\"color:red\">Taller:</span>** \n",
    "<span style=\"color:red\">Buscar un mejor modelo intentando diferentes combinaciones de variables predictivas:</span>\n",
    "- <span style=\"color:red\">Utilizar el R2 Ajustado como criterio de evaluación.</span>\n",
    "- <span style=\"color:red\">Agregar las variables predictivas que mejor explican la variable dependiente MPG de manera iterativa utilizando la técnica de **forward stepwise** regression.</span>"
   ]
  },
  {
   "cell_type": "code",
   "execution_count": null,
   "metadata": {},
   "outputs": [],
   "source": [
    "...\n",
    "...\n",
    "...\n",
    "... TODO\n",
    "...\n",
    "..."
   ]
  },
  {
   "cell_type": "markdown",
   "metadata": {},
   "source": [
    "## Escogencia de variables usando backward stepwise"
   ]
  },
  {
   "cell_type": "markdown",
   "metadata": {},
   "source": [
    "Empezamos por escoger todas la variables para crear un modelo inicial."
   ]
  },
  {
   "cell_type": "code",
   "execution_count": null,
   "metadata": {},
   "outputs": [],
   "source": [
    "train_x3 = train_x[['weight', 'cylinders', 'displacement', 'horsepower', 'acceleration']]\n",
    "train_x3 = sm.add_constant(train_x3)\n",
    "modeloStats = sm.OLS(train_y, train_x3)\n",
    "results = modeloStats.fit();\n",
    "print(results.rsquared_adj)"
   ]
  },
  {
   "cell_type": "markdown",
   "metadata": {},
   "source": [
    "Partimos entonces de un modelo que incluye todas las variables, y que obtiene un R2 ajustado de 0.727. Vamos a continuar la búsqueda del mejor modelo siguiendo el heurístico de backward stepwise.\n",
    "\n",
    "**<span style=\"color:red\">Taller:</span>** \n",
    "<span style=\"color:red\">Buscar un mejor modelo intentando diferentes combinaciones de variables predictivas:</span>\n",
    "- <span style=\"color:red\">Utilizar el R2 Ajustado como criterio de evaluación.</span>\n",
    "- <span style=\"color:red\">Eliminar las variables predictivas que impiden obtener un mejor modelos al agregar ruido, utilizando la técnica de **backward stepwise** regression.</span>\n",
    "</span>"
   ]
  },
  {
   "cell_type": "code",
   "execution_count": null,
   "metadata": {},
   "outputs": [],
   "source": [
    "...\n",
    "...\n",
    "...\n",
    "... TODO\n",
    "...\n",
    "..."
   ]
  }
 ],
 "metadata": {
  "kernelspec": {
   "display_name": "Python 3",
   "language": "python",
   "name": "python3"
  },
  "language_info": {
   "codemirror_mode": {
    "name": "ipython",
    "version": 3
   },
   "file_extension": ".py",
   "mimetype": "text/x-python",
   "name": "python",
   "nbconvert_exporter": "python",
   "pygments_lexer": "ipython3",
   "version": "3.7.3"
  }
 },
 "nbformat": 4,
 "nbformat_minor": 2
}
