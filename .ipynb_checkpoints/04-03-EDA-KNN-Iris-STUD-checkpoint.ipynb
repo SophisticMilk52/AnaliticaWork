{
 "cells": [
  {
   "cell_type": "markdown",
   "metadata": {},
   "source": [
    "# Entendimiento de los datos"
   ]
  },
  {
   "cell_type": "markdown",
   "metadata": {},
   "source": [
    "Para ilustrar el proceso de entendimiento de los datos, vamos a utilizar el dataset mas conocido y estudiado del aprendizaje automático (el \"hola mundo\" de la analítica): el dataset de flores Iris.\n",
    "Este consta de 150 instancias de flores, clasificadas en 3 categorías posibles (iris-virginica, iris-setosa, iris-versicolor, cada una con 50 instancias), descritas a partir de 4 atributos (largo y ancho del pétalo, largo y ancho del sépalo)."
   ]
  },
  {
   "cell_type": "markdown",
   "metadata": {},
   "source": [
    "Importamos las librerías que vamos a utilizar"
   ]
  },
  {
   "cell_type": "code",
   "execution_count": 1,
   "metadata": {},
   "outputs": [],
   "source": [
    "import numpy as np #operaciones matriciales y con vectores\n",
    "import pandas as pd #tratamiento de datos\n",
    "import math\n",
    "import matplotlib.pyplot as plt #gráficos\n",
    "import seaborn as sns\n",
    "from sklearn import datasets\n",
    "from sklearn import neighbors, metrics\n",
    "from sklearn.model_selection import train_test_split #metodo de particionamiento de datasets para evaluación\n",
    "from sklearn.model_selection import cross_val_score, cross_validate #método para evaluar varios particionamientos de C-V\n",
    "from sklearn.model_selection import KFold, StratifiedKFold, RepeatedKFold, LeaveOneOut #Iteradores de C-V"
   ]
  },
  {
   "cell_type": "markdown",
   "metadata": {},
   "source": [
    "Vamos a ignorar los warnings que no son importantes para lo que vamos a hacer"
   ]
  },
  {
   "cell_type": "code",
   "execution_count": 2,
   "metadata": {},
   "outputs": [],
   "source": [
    "import warnings\n",
    "warnings.filterwarnings('ignore')"
   ]
  },
  {
   "cell_type": "markdown",
   "metadata": {},
   "source": [
    "Cargamos los datos para entenderlos"
   ]
  },
  {
   "cell_type": "code",
   "execution_count": 3,
   "metadata": {},
   "outputs": [
    {
     "data": {
      "text/plain": [
       "sklearn.utils.Bunch"
      ]
     },
     "execution_count": 3,
     "metadata": {},
     "output_type": "execute_result"
    }
   ],
   "source": [
    "iris = datasets.load_iris()\n",
    "type(iris)"
   ]
  },
  {
   "cell_type": "markdown",
   "metadata": {},
   "source": [
    "## Preparación de la estructura de datos"
   ]
  },
  {
   "cell_type": "markdown",
   "metadata": {},
   "source": [
    "El dataset esta guardado en una clase de scikit-learn llamada Bunch, que contiene el dataset en una estructura de directorio (duplas llave-valor). "
   ]
  },
  {
   "cell_type": "code",
   "execution_count": 4,
   "metadata": {},
   "outputs": [
    {
     "data": {
      "text/plain": [
       "dict_keys(['data', 'target', 'target_names', 'DESCR', 'feature_names', 'filename'])"
      ]
     },
     "execution_count": 4,
     "metadata": {},
     "output_type": "execute_result"
    }
   ],
   "source": [
    "iris.keys()"
   ]
  },
  {
   "cell_type": "markdown",
   "metadata": {},
   "source": [
    "Podemos acceder a los datos de dos maneras, ya sea con los nombres de los campos en un array o como variables miembro:"
   ]
  },
  {
   "cell_type": "code",
   "execution_count": 5,
   "metadata": {},
   "outputs": [
    {
     "data": {
      "text/plain": [
       "array(['setosa', 'versicolor', 'virginica'], dtype='<U10')"
      ]
     },
     "execution_count": 5,
     "metadata": {},
     "output_type": "execute_result"
    }
   ],
   "source": [
    "iris.target_names"
   ]
  },
  {
   "cell_type": "code",
   "execution_count": 6,
   "metadata": {},
   "outputs": [
    {
     "data": {
      "text/plain": [
       "array(['setosa', 'versicolor', 'virginica'], dtype='<U10')"
      ]
     },
     "execution_count": 6,
     "metadata": {},
     "output_type": "execute_result"
    }
   ],
   "source": [
    "iris[\"target_names\"]"
   ]
  },
  {
   "cell_type": "code",
   "execution_count": 7,
   "metadata": {},
   "outputs": [
    {
     "name": "stdout",
     "output_type": "stream",
     "text": [
      "variables independientes:  ['sepal length (cm)', 'sepal width (cm)', 'petal length (cm)', 'petal width (cm)'] (150, 4)\n",
      "categorías de la variable dependiente:  ['setosa' 'versicolor' 'virginica'] (150,)\n"
     ]
    }
   ],
   "source": [
    "print(\"variables independientes: \", iris.feature_names, iris.data.shape)\n",
    "print(\"categorías de la variable dependiente: \", iris.target_names, iris.target.shape)"
   ]
  },
  {
   "cell_type": "markdown",
   "metadata": {},
   "source": [
    "Vamos a poner los datos en una estructura más manejable (numpy ndarray)"
   ]
  },
  {
   "cell_type": "code",
   "execution_count": null,
   "metadata": {},
   "outputs": [],
   "source": [
    "x = iris.data\n",
    "y = iris.target\n",
    "print(type(x))\n",
    "print(type(y))"
   ]
  },
  {
   "cell_type": "code",
   "execution_count": null,
   "metadata": {},
   "outputs": [],
   "source": [
    "y"
   ]
  },
  {
   "cell_type": "markdown",
   "metadata": {},
   "source": [
    "La variable categórica esta en un array de una sola fila.  Vamos a ponerla en una columna con varias filas para poder luego concatenarla con los datos de las variables independientes."
   ]
  },
  {
   "cell_type": "code",
   "execution_count": null,
   "metadata": {},
   "outputs": [],
   "source": [
    "y = np.expand_dims(y, axis=1)\n",
    "y[0:5]"
   ]
  },
  {
   "cell_type": "markdown",
   "metadata": {},
   "source": [
    "Si por el contrario quisieramos poner una columna en una sola fila, podemos utilizar squeeze. A continuación mostramos su uso, pero no vamos a asignar la salida a la variable **y**"
   ]
  },
  {
   "cell_type": "code",
   "execution_count": null,
   "metadata": {},
   "outputs": [],
   "source": [
    "np.squeeze(y)"
   ]
  },
  {
   "cell_type": "markdown",
   "metadata": {},
   "source": [
    "Creamos una sola estructura matricial con todos los datos."
   ]
  },
  {
   "cell_type": "code",
   "execution_count": null,
   "metadata": {},
   "outputs": [],
   "source": [
    "data = np.concatenate((x, y), axis = 1)\n",
    "data[0:5]"
   ]
  },
  {
   "cell_type": "markdown",
   "metadata": {},
   "source": [
    "Finalmente podemos crear una estructura **dataframe** para poder utilizar sus funcionalidades de manipulación de datos. Pongan atención al cambio del tipo de variable de *species* de entero a string."
   ]
  },
  {
   "cell_type": "code",
   "execution_count": null,
   "metadata": {},
   "outputs": [],
   "source": [
    "d = pd.DataFrame(data)\n",
    "labels = iris.feature_names.copy()\n",
    "labels.append('species')\n",
    "d.columns=labels\n",
    "d['species'] = d['species'].astype(int).astype('str')\n",
    "#str(d['species'])"
   ]
  },
  {
   "cell_type": "markdown",
   "metadata": {},
   "source": [
    "Veamos los primeros 5 registros del dataframe"
   ]
  },
  {
   "cell_type": "code",
   "execution_count": null,
   "metadata": {},
   "outputs": [],
   "source": [
    "d[0:5]"
   ]
  },
  {
   "cell_type": "markdown",
   "metadata": {},
   "source": [
    "Vamos a cambiar los nombres de las columnas para que no queden con espacios"
   ]
  },
  {
   "cell_type": "code",
   "execution_count": null,
   "metadata": {},
   "outputs": [],
   "source": [
    "d.columns = [\"sepal_length\", \"sepal_width\", \"petal_length\", \"petal_width\", \"species\"]\n",
    "d[0:5]"
   ]
  },
  {
   "cell_type": "markdown",
   "metadata": {},
   "source": [
    "Con un dataframe podemos acceder a los datos de las variables (columnas) a manera de diccionario:"
   ]
  },
  {
   "cell_type": "code",
   "execution_count": null,
   "metadata": {},
   "outputs": [],
   "source": [
    "d[\"sepal_width\"][0:5]"
   ]
  },
  {
   "cell_type": "markdown",
   "metadata": {},
   "source": [
    "A manera de variable miembro"
   ]
  },
  {
   "cell_type": "code",
   "execution_count": null,
   "metadata": {},
   "outputs": [],
   "source": [
    "d.sepal_width[0:5]"
   ]
  },
  {
   "cell_type": "markdown",
   "metadata": {},
   "source": [
    "Obteniendo un nuevo dataframe solo con la columna en cuestión"
   ]
  },
  {
   "cell_type": "code",
   "execution_count": null,
   "metadata": {},
   "outputs": [],
   "source": [
    "d[[\"sepal_width\"]][0:5]"
   ]
  },
  {
   "cell_type": "markdown",
   "metadata": {},
   "source": [
    "usando indices con iloc (devuelve un dataframe)"
   ]
  },
  {
   "cell_type": "code",
   "execution_count": null,
   "metadata": {},
   "outputs": [],
   "source": [
    "d.iloc[0:5:,[1]]"
   ]
  },
  {
   "cell_type": "markdown",
   "metadata": {},
   "source": [
    "O si queremos hacer subconjuntos teniendo en cuenta valores, usamos loc. Pör ejemplo si queremos los registros de una de las clases en particular."
   ]
  },
  {
   "cell_type": "code",
   "execution_count": null,
   "metadata": {},
   "outputs": [],
   "source": [
    "iris[\"target_names\"]"
   ]
  },
  {
   "cell_type": "code",
   "execution_count": null,
   "metadata": {},
   "outputs": [],
   "source": [
    "#setosa=\"0\"\n",
    "d.loc[d.species==\"0\"][0:5]"
   ]
  },
  {
   "cell_type": "markdown",
   "metadata": {},
   "source": [
    "Para un futuro uso, vamos a crear un map que asocie una categoría con el índice correspondiente"
   ]
  },
  {
   "cell_type": "code",
   "execution_count": null,
   "metadata": {},
   "outputs": [],
   "source": [
    "categorias = dict(zip([\"0\", \"1\", \"2\"],iris[\"target_names\"]))\n",
    "categorias"
   ]
  },
  {
   "cell_type": "markdown",
   "metadata": {},
   "source": [
    "## Exploración de los datos"
   ]
  },
  {
   "cell_type": "markdown",
   "metadata": {},
   "source": [
    "El método **head** permite obtener los primeros registros de un dataframe."
   ]
  },
  {
   "cell_type": "code",
   "execution_count": null,
   "metadata": {},
   "outputs": [],
   "source": [
    "d.head(n=3)"
   ]
  },
  {
   "cell_type": "markdown",
   "metadata": {},
   "source": [
    "Aquí aparentemente tenemos valores numéricos en cada celda del dataframe, pero nosotros sabemos que la columna *species* es  la representación en cadena de caractéres (str) de los valores numéricos de las categorías: 'setosa'=0, 'versicolor'=1, 'virginica'=2."
   ]
  },
  {
   "cell_type": "markdown",
   "metadata": {},
   "source": [
    "El objeto **dtypes** indica las clases de las columnas del dataframe"
   ]
  },
  {
   "cell_type": "code",
   "execution_count": null,
   "metadata": {},
   "outputs": [],
   "source": [
    "d.dtypes"
   ]
  },
  {
   "cell_type": "markdown",
   "metadata": {},
   "source": [
    "Aquí confirmamos los tipos de las columnas de las variables independientes, y vemos como la variable dependiente se muestra como teniendo un tipo objeto (str es un tipo de objeto). Lo confirmamos a continuación."
   ]
  },
  {
   "cell_type": "code",
   "execution_count": null,
   "metadata": {},
   "outputs": [],
   "source": [
    "type(d.species[0])"
   ]
  },
  {
   "cell_type": "markdown",
   "metadata": {},
   "source": [
    "El método **info** de un dataframe permite consultar información como el número de registros y de columnas con los tipos de datos correspondientes, el número de registros presentes (por oposición a los registros faltantes), y el tamaño que ocupa el dataframe en memoria."
   ]
  },
  {
   "cell_type": "code",
   "execution_count": null,
   "metadata": {},
   "outputs": [],
   "source": [
    "d.info()"
   ]
  },
  {
   "cell_type": "markdown",
   "metadata": {},
   "source": [
    "Aquí podemos:\n",
    "- establecer el número de registros (150)\n",
    "- confirmar que las cuatro variables independientes son numéricas, y que ninguna tiene valores faltantes, pues hay 150 valores presentes en cada una\n",
    "- confirmar que la variables dependientes no es numérica (tipo object)"
   ]
  },
  {
   "cell_type": "code",
   "execution_count": null,
   "metadata": {},
   "outputs": [],
   "source": [
    "?d.describe"
   ]
  },
  {
   "cell_type": "markdown",
   "metadata": {},
   "source": [
    "El método **describe** de un dataframe permite obtener un resumen de estadísticas descriptivas que permiten entender la distribución de cada variable."
   ]
  },
  {
   "cell_type": "code",
   "execution_count": null,
   "metadata": {},
   "outputs": [],
   "source": [
    "d.describe(include=\"all\")"
   ]
  },
  {
   "cell_type": "markdown",
   "metadata": {},
   "source": [
    "Aquí podemos ver que:\n",
    "- las cuatro primeras variables son numéricas (se pueden obtener percentiles, promedios y desviaciones estándar)\n",
    "- el rango de estas variables no es el mismo para las variables. Particularmente podemos ver que 'petal width' tiene valores mas pequeños que 'sepal length' y que 'petal length' que presentan valores superiores.\n",
    "- al comparar los promedios y percentil 50% de las variables podemos ver que 'petal length' presenta una diferencia bastante importante. Esto se puede explicar por distribución estirada hacia la izquierda o por unadistribución multimodal.\n",
    "- la variable dependiente tiene 3 valores posibles, y que la categoría mas representativa es la 0 (setosa), que aparece con una frecuencia de 50. Esto nos permite deducir que el dataset está balanceado con respecto a la varible objetivo, y que las 3 clases aparecen en 50 registros cada una\n",
    "\n",
    "En definitiva, para poder una idea más clara de las distribuciones de las variables, lo más indicado es utilizar visualizaciones."
   ]
  },
  {
   "cell_type": "markdown",
   "metadata": {},
   "source": [
    "## Visualizaciones"
   ]
  },
  {
   "cell_type": "markdown",
   "metadata": {},
   "source": [
    "Vamos a utilizar la librería **seaborn**, que es una extensión de la librería **matplotlib**."
   ]
  },
  {
   "cell_type": "markdown",
   "metadata": {},
   "source": [
    "### Gráfico de barras"
   ]
  },
  {
   "cell_type": "markdown",
   "metadata": {},
   "source": [
    "Lo primero que vamos a hacer es inicializar los objetos figura y ejes vacíos. Estos dos objetos deben estar en la misma celda del jupyter notebook que los lugares donde se utilizan.\n",
    "Analizamos la distribución de las frecuencias de la variable categórica dependiente, utilizando un gráfico de barras de conteo."
   ]
  },
  {
   "cell_type": "code",
   "execution_count": null,
   "metadata": {},
   "outputs": [],
   "source": [
    "d.columns[4]"
   ]
  },
  {
   "cell_type": "code",
   "execution_count": null,
   "metadata": {},
   "outputs": [],
   "source": [
    "fig, ax = plt.subplots()\n",
    "sns.countplot(x=d.columns[4], data=d)\n",
    "plt.title(d.columns[4])\n",
    "ax.set_xticklabels(iris.target_names)\n",
    "\n",
    "plt.show()"
   ]
  },
  {
   "cell_type": "markdown",
   "metadata": {},
   "source": [
    "Confirmamos así que el dataset está balanceado en cuanto a la variable dependiente, con 50 instancias para cada categoría."
   ]
  },
  {
   "cell_type": "markdown",
   "metadata": {},
   "source": [
    "### Boxplots"
   ]
  },
  {
   "cell_type": "markdown",
   "metadata": {},
   "source": [
    "Ahora vamos a analizar las variables independientes."
   ]
  },
  {
   "cell_type": "markdown",
   "metadata": {},
   "source": [
    "Lo boxplots proporcionan una manera visual de entender las distribuciones de las variables numéricas, agregando además información estadística de las mismas, permitiendo el condicionamiento de los registros con respecto a una variable categórica."
   ]
  },
  {
   "cell_type": "code",
   "execution_count": null,
   "metadata": {},
   "outputs": [],
   "source": [
    "fig = plt.figure(figsize=(15,10))\n",
    "i=1\n",
    "\n",
    "for var_num in d.columns[0:4]:\n",
    "    ax = fig.add_subplot(2, 2, i) #Defino una tabla de 2 filas por 2 columnas, agrego el i-ésimo plot\n",
    "    sns.boxplot(x=d.columns[4], y=var_num, data=d)\n",
    "    plt.title(var_num)\n",
    "    ax.set_xticklabels(iris.target_names)\n",
    "    i+=1"
   ]
  },
  {
   "cell_type": "markdown",
   "metadata": {},
   "source": [
    "### Gráfico de violín"
   ]
  },
  {
   "cell_type": "markdown",
   "metadata": {},
   "source": [
    "Un plot de **violin** permite analizar también la distribución de una variable numérica independientemente de las demás, combinando un boxplot con un gráfico de densidad."
   ]
  },
  {
   "cell_type": "code",
   "execution_count": null,
   "metadata": {},
   "outputs": [],
   "source": [
    "d.columns[4]"
   ]
  },
  {
   "cell_type": "code",
   "execution_count": null,
   "metadata": {},
   "outputs": [],
   "source": [
    "fig, ax = plt.subplots()\n",
    "colname = d.columns[2]\n",
    "sns.violinplot(x=colname, data=d)\n",
    "plt.title(colname)\n",
    "\n",
    "# Show the plot\n",
    "plt.show()"
   ]
  },
  {
   "cell_type": "markdown",
   "metadata": {},
   "source": [
    "Podemos ver, como lo sospechábamos al obtener las estadísticas descriptivas, que la variable 'petal length' presenta una distribución bimodal. Este plot además incluye un boxplot interno que muestra la mediana con un punto blanco y el percentil 25% y 75%."
   ]
  },
  {
   "cell_type": "markdown",
   "metadata": {},
   "source": [
    "En una misma figura podemos tener los plots de las 4 variables independientes. Esto lo logramos especificando los ejes de cada imágen. También podemos modificar el tamaño global de la figura.\n",
    "\n",
    "Vamos a iterar en el dataframe con un ciclo que recorre las 4 variables numéricas, creando los plots correspondientes"
   ]
  },
  {
   "cell_type": "code",
   "execution_count": null,
   "metadata": {},
   "outputs": [],
   "source": [
    "fig = plt.figure(figsize=(15,12))\n",
    "i=1\n",
    "\n",
    "for var_num in d.columns[0:4]:\n",
    "    ax = fig.add_subplot(2, 2, i) #Defino una tabla de 2 filas por 2 columnas, agrego el i-ésimo plot\n",
    "    sns.violinplot(x=var_num, data=d)\n",
    "    plt.title(var_num)\n",
    "    i+=1"
   ]
  },
  {
   "cell_type": "markdown",
   "metadata": {},
   "source": [
    "Vemos que las variables tienen distribuciones muy diferentes. Sería mucho más informativo desde el punto de vista de la clasificación de la variable dependiente, poder tener una idea de la distribución de las variables independientes con respecto a cada categoría.\n",
    "Esto lo logramos fácilmente poniendo una variable que controle el color (hue=matiz):"
   ]
  },
  {
   "cell_type": "code",
   "execution_count": null,
   "metadata": {},
   "outputs": [],
   "source": [
    "fig = plt.figure(figsize=(15,10))\n",
    "i=1\n",
    "\n",
    "for var_num in d.columns[0:4]:\n",
    "    ax = fig.add_subplot(2, 2, i) #Defino una tabla de 2 filas por 2 columnas, agrego el i-ésimo plot\n",
    "    sns.violinplot(x=d.columns[4], y=var_num, data=d)\n",
    "    plt.title(var_num)\n",
    "    ax.set_xticklabels(iris.target_names)\n",
    "    i+=1"
   ]
  },
  {
   "cell_type": "markdown",
   "metadata": {},
   "source": [
    "<font color='red'>¿Qué podemos decir?</font>"
   ]
  },
  {
   "cell_type": "markdown",
   "metadata": {},
   "source": [
    "### Gráfico de densidades"
   ]
  },
  {
   "cell_type": "markdown",
   "metadata": {},
   "source": [
    "Otra manera de ver información en un eje numérico univariado es analizando las distribuciones superpuestas. El plot KDE utiliza estimaciones de Kernel (no paramétricas) de cómo sería una distribución univariada o bivariada de un conjunto de datos."
   ]
  },
  {
   "cell_type": "code",
   "execution_count": null,
   "metadata": {},
   "outputs": [],
   "source": [
    "setosa = d.loc[d.species == \"0\"]\n",
    "virginica = d.loc[d.species == \"1\"]\n",
    "versicolor = d.loc[d.species == \"2\"]"
   ]
  },
  {
   "cell_type": "code",
   "execution_count": null,
   "metadata": {},
   "outputs": [],
   "source": [
    "#ax = sns.kdeplot(setosa.sepal_width, setosa.sepal_length, cmap=\"Blues\", shade=True, shade_lowest=False)\n",
    "ax = sns.kdeplot(setosa.petal_width, shade=True, color=\"b\")\n",
    "ax = sns.kdeplot(virginica.petal_width, shade=True, color=\"r\")\n",
    "ax = sns.kdeplot(versicolor.petal_width, shade=True, color=\"g\")"
   ]
  },
  {
   "cell_type": "code",
   "execution_count": null,
   "metadata": {},
   "outputs": [],
   "source": [
    "x=0\n",
    "y=0\n",
    "fig, axs = plt.subplots(figsize=[15, 10], ncols=2, nrows=2)\n",
    "for var_num in d.columns[0:4]:\n",
    "    sns.kdeplot(setosa[[var_num]].iloc[:,0], shade=True, color=\"b\", ax=axs[y,x], label=\"setosa\")\n",
    "    sns.kdeplot(virginica[[var_num]].iloc[:,0], shade=True, color=\"r\", ax=axs[y,x], label=\"virginica\")\n",
    "    sns.kdeplot(versicolor[[var_num]].iloc[:,0], shade=True, color=\"g\", ax=axs[y,x], label=\"versicolor\")\n",
    "    axs[y,x].set_title(var_num)\n",
    "    if x==0:\n",
    "        x=1\n",
    "    else:\n",
    "        y=1\n",
    "        x=0"
   ]
  },
  {
   "cell_type": "markdown",
   "metadata": {},
   "source": [
    "A partir del análisis univariado, podemos ver que las mejores variables desde el punto de vista de discriminación de las clases de la variable objetivo son petal_width y petal_length. "
   ]
  },
  {
   "cell_type": "markdown",
   "metadata": {},
   "source": [
    "Vamos a analizar las distribuciones bivariadas de estas dos variables."
   ]
  },
  {
   "cell_type": "code",
   "execution_count": null,
   "metadata": {},
   "outputs": [],
   "source": [
    "fig, axs = plt.subplots(figsize=[15, 15], ncols=2, nrows=3)\n",
    "\n",
    "ax = sns.kdeplot(virginica.petal_width, virginica.petal_length, shade=True, shade_lowest=False, cmap=\"Reds\", \n",
    "                 alpha=0.5, label=\"virginica\", ax=axs[0,0])\n",
    "ax = sns.kdeplot(versicolor.petal_width, versicolor.petal_length, shade=True, shade_lowest=False, cmap=\"Greens\", \n",
    "                 alpha=0.4, label=\"versicolor\", ax=axs[0,0])\n",
    "ax = sns.kdeplot(setosa.petal_width, setosa.petal_length, shade=True, shade_lowest=False, cmap=\"Blues\", \n",
    "                 alpha=0.5, label=\"setosa\", ax=axs[0,0])\n",
    "ax.set_title(\"Petal width vs. petal length\")\n",
    "\n",
    "ax = sns.kdeplot(virginica.petal_width, virginica.sepal_width, shade=True, shade_lowest=False, cmap=\"Reds\", \n",
    "                 alpha=0.5, label=\"virginica\", ax=axs[0,1])\n",
    "ax = sns.kdeplot(versicolor.petal_width, versicolor.sepal_width, shade=True, shade_lowest=False, cmap=\"Greens\", \n",
    "                 alpha=0.4, label=\"versicolor\", ax=axs[0,1])\n",
    "ax = sns.kdeplot(setosa.petal_width, setosa.sepal_width, shade=True, shade_lowest=False, cmap=\"Blues\", \n",
    "                 alpha=0.5, label=\"setosa\", ax=axs[0,1])\n",
    "ax.set_title(\"Petal width vs. sepal width\")\n",
    "\n",
    "ax = sns.kdeplot(virginica.petal_width, virginica.sepal_length, shade=True, shade_lowest=False, cmap=\"Reds\", \n",
    "                 alpha=0.5, label=\"virginica\", ax=axs[1,0])\n",
    "ax = sns.kdeplot(versicolor.petal_width, versicolor.sepal_length, shade=True, shade_lowest=False, cmap=\"Greens\", \n",
    "                 alpha=0.4, label=\"versicolor\", ax=axs[1,0])\n",
    "ax = sns.kdeplot(setosa.petal_width, setosa.sepal_length, shade=True, shade_lowest=False, cmap=\"Blues\", \n",
    "                 alpha=0.5, label=\"setosa\", ax=axs[1,0])\n",
    "ax.set_title(\"Petal width vs. sepal length\")\n",
    "\n",
    "\n",
    "# No quiero mostrar el gráfico de la segunda fila y segunda columna\n",
    "axs[1,1].get_yaxis().set_visible(False)\n",
    "axs[1,1].get_xaxis().set_visible(False)\n",
    "sns.despine(left=True, bottom=True, right=True, ax=axs[1,1])\n",
    "\n",
    "ax = sns.kdeplot(virginica.petal_length, virginica.sepal_width, shade=True, shade_lowest=False, cmap=\"Reds\", \n",
    "                 alpha=0.5, label=\"virginica\", ax=axs[2,0])\n",
    "ax = sns.kdeplot(versicolor.petal_length, versicolor.sepal_width, shade=True, shade_lowest=False, cmap=\"Greens\", \n",
    "                 alpha=0.4, label=\"versicolor\", ax=axs[2,0])\n",
    "ax = sns.kdeplot(setosa.petal_length, setosa.sepal_width, shade=True, shade_lowest=False, cmap=\"Blues\", \n",
    "                 alpha=0.5, label=\"setosa\", ax=axs[2,0])\n",
    "ax.set_title(\"Petal length vs. sepal width\")\n",
    "\n",
    "ax = sns.kdeplot(virginica.petal_length, virginica.sepal_length, shade=True, shade_lowest=False, cmap=\"Reds\", \n",
    "                 alpha=0.5, label=\"virginica\", ax=axs[2,1])\n",
    "ax = sns.kdeplot(versicolor.petal_length, versicolor.sepal_length, shade=True, shade_lowest=False, cmap=\"Greens\", \n",
    "                 alpha=0.4, label=\"versicolor\", ax=axs[2,1])\n",
    "ax = sns.kdeplot(setosa.petal_length, setosa.sepal_length, shade=True, shade_lowest=False, cmap=\"Blues\", \n",
    "                 alpha=0.5, label=\"setosa\", ax=axs[2,1])\n",
    "ax.set_title(\"Petal length vs. sepal length\")"
   ]
  },
  {
   "cell_type": "markdown",
   "metadata": {},
   "source": [
    "Con este tipo de plots bivariados, podemos eventualmente encontrar indicios de la capacidad predictiva de la interacción entre 2 variables, o confirmar los que pudimos obtener con una el análisis univariado."
   ]
  },
  {
   "cell_type": "markdown",
   "metadata": {},
   "source": [
    "### Scatter plots"
   ]
  },
  {
   "cell_type": "markdown",
   "metadata": {},
   "source": [
    "Otra manera de ver las relaciones entre 2 variables es con scatter plots."
   ]
  },
  {
   "cell_type": "markdown",
   "metadata": {},
   "source": [
    "Vamos a ilustrar un particionamiento posible con los dataframes, usando el método *groupby*.\n",
    "\n",
    "El método *groupby* retorna una tupla con la el de la categoría de la variable particionada (\"0\", \"1\", \"2\"), y un dataframe con los dataframes de los registros correspondientes a cada categoría, incluyendo el índice de los registros correspondientes."
   ]
  },
  {
   "cell_type": "code",
   "execution_count": null,
   "metadata": {},
   "outputs": [],
   "source": [
    "fig, axs = plt.subplots(figsize=[15, 5], ncols=2, nrows=1)\n",
    "\n",
    "for name, group in d.groupby('species'):\n",
    "    cat = categorias[name]\n",
    "    sns.scatterplot(x=\"petal_width\", y=\"petal_length\", data=group, alpha=0.5, label=cat, ax=axs[0])    \n",
    "axs[0].legend()\n",
    "axs[0].set_title(\"ScatterPlot: Petal width vs. petal length\")\n",
    "\n",
    "for name, group in d.groupby('species'):\n",
    "    cat = categorias[name]\n",
    "    sns.kdeplot(data=group[\"petal_width\"], data2=group[\"petal_length\"], shade=True, shade_lowest=False, alpha=0.5,\n",
    "                label=cat, ax=axs[1])    \n",
    "axs[1].legend(loc=2)\n",
    "axs[1].set_title(\"Densidad de puntos: Petal width vs. petal length\")"
   ]
  },
  {
   "cell_type": "markdown",
   "metadata": {},
   "source": [
    "### Pairplot"
   ]
  },
  {
   "cell_type": "markdown",
   "metadata": {},
   "source": [
    "Un plot muy útil que resume el análisis univariado y el bivariado es el *pair plot*, que crea una matriz de plots con gráficos de densidad en la diagonal y scatterplots en las demás celdas."
   ]
  },
  {
   "cell_type": "code",
   "execution_count": null,
   "metadata": {
    "scrolled": true
   },
   "outputs": [],
   "source": [
    "plt.figure(figsize=(15,15))\n",
    "ax = sns.pairplot(d, hue=\"species\")"
   ]
  },
  {
   "cell_type": "markdown",
   "metadata": {},
   "source": [
    "## Clasificación a partir de K-NN"
   ]
  },
  {
   "cell_type": "markdown",
   "metadata": {},
   "source": [
    "El algoritmo de K-NN requiere la especificación del parámetro K, con el número de vecinos que se considerarán para tomar la decisión de clasificación (recuerden que K-NN también permite hacer regresión)."
   ]
  },
  {
   "cell_type": "markdown",
   "metadata": {},
   "source": [
    "Primero vamos a separar las variables predictivas de la variable objetivo:"
   ]
  },
  {
   "cell_type": "code",
   "execution_count": null,
   "metadata": {},
   "outputs": [],
   "source": [
    "x=d.iloc[:,0:4]\n",
    "y=d[\"species\"]"
   ]
  },
  {
   "cell_type": "code",
   "execution_count": null,
   "metadata": {},
   "outputs": [],
   "source": [
    "x[0:5]"
   ]
  },
  {
   "cell_type": "code",
   "execution_count": null,
   "metadata": {},
   "outputs": [],
   "source": [
    "y[0:5]"
   ]
  },
  {
   "cell_type": "markdown",
   "metadata": {},
   "source": [
    "A partir de las cuatro variables independientes (largo y ancho de pétalo y de sépalo), vamos a determinar la especie de la flor usando K-NN.\n",
    "Definimos un valor de K=5 y utilizamos el mismo dataset de 150 instancias para evaluar los resultados del algoritmo (las clases predichas), comparándolos con los reales (especies reales de cada registro)."
   ]
  },
  {
   "cell_type": "code",
   "execution_count": null,
   "metadata": {},
   "outputs": [],
   "source": [
    "k=5\n",
    "knn = neighbors.KNeighborsClassifier(n_neighbors=k)\n",
    "knn.fit(x, y)"
   ]
  },
  {
   "cell_type": "markdown",
   "metadata": {},
   "source": [
    "Ya tenemos el modelo \"aprendido\" con el dataset de 150 instancias de Iris.\n",
    "Vamos ahora a evaluarlo sobre ese mismo dataset para poder ver los éxitos y errores de la predicción. "
   ]
  },
  {
   "cell_type": "code",
   "execution_count": null,
   "metadata": {},
   "outputs": [],
   "source": [
    "y_pred = knn.predict(x)\n",
    "print(\"Clases reales   : \", y)\n",
    "print(\"Clases predichas: \", y_pred)"
   ]
  },
  {
   "cell_type": "markdown",
   "metadata": {},
   "source": [
    "# Métricas y matriz de confusión"
   ]
  },
  {
   "cell_type": "markdown",
   "metadata": {},
   "source": [
    "Vemos que hay unos cuantos errores, para poder analizar mejor los resultados, vamos a construir una matriz de confusión y a aplicar métricas de clasificación.\n",
    "\n",
    "En las filas quedarán las clases reales, en las columnas las predichas."
   ]
  },
  {
   "cell_type": "code",
   "execution_count": null,
   "metadata": {},
   "outputs": [],
   "source": [
    "cm= metrics.confusion_matrix(y, y_pred)\n",
    "plt.imshow(cm, cmap=plt.cm.Blues)\n",
    "plt.title(\"Matriz de confusión para K=5\")\n",
    "plt.colorbar()\n",
    "tick_marks = np.arange(3)\n",
    "plt.xticks(tick_marks, iris.target_names)\n",
    "_=plt.yticks(tick_marks, iris.target_names)"
   ]
  },
  {
   "cell_type": "markdown",
   "metadata": {},
   "source": [
    "<font color='red'>Realice las siguientes tareas (para poder hacerlas utilicen cuando puedan sklearn.metrics, sin embargo, para ciertas métricas, es necesario realizar los cálculos a mano):</font>\n",
    "\n",
    "1. <font color='red'>Obtenga e interprete los resultados de exactitud y kappa.</font>\n",
    "\n",
    "2. <font color='red'>Para cada una de las clases, calculen e interpreten los valores de las métricas de precisión, recall, especificidad, f1 score.</font>\n",
    "\n",
    "3. <font color='red'>Intenten con otros valores de K, y encuentren el mejor modelo K-NN.</font>"
   ]
  }
 ],
 "metadata": {
  "kernelspec": {
   "display_name": "Python 3",
   "language": "python",
   "name": "python3"
  },
  "language_info": {
   "codemirror_mode": {
    "name": "ipython",
    "version": 3
   },
   "file_extension": ".py",
   "mimetype": "text/x-python",
   "name": "python",
   "nbconvert_exporter": "python",
   "pygments_lexer": "ipython3",
   "version": "3.7.3"
  }
 },
 "nbformat": 4,
 "nbformat_minor": 2
}
